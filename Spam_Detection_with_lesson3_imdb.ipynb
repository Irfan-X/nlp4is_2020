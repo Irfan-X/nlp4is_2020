{
  "nbformat": 4,
  "nbformat_minor": 0,
  "metadata": {
    "kernelspec": {
      "name": "python3",
      "display_name": "Python 3"
    },
    "colab": {
      "name": "Spam Detection with lesson3-imdb.ipynb",
      "provenance": [],
      "collapsed_sections": [],
      "include_colab_link": true
    },
    "accelerator": "GPU"
  },
  "cells": [
    {
      "cell_type": "markdown",
      "metadata": {
        "id": "view-in-github",
        "colab_type": "text"
      },
      "source": [
        "<a href=\"https://colab.research.google.com/github/gwohlgen/nlp4is_2020/blob/master/Spam_Detection_with_lesson3_imdb.ipynb\" target=\"_parent\"><img src=\"https://colab.research.google.com/assets/colab-badge.svg\" alt=\"Open In Colab\"/></a>"
      ]
    },
    {
      "cell_type": "markdown",
      "metadata": {
        "id": "3utKmUZo9NkE",
        "colab_type": "text"
      },
      "source": [
        "# Spam detection (based on fastai IMDB example)\n",
        "\n",
        "1.   Inspired by [fastAI IMDB classifcation notebook](https://github.com/fastai/course-v3/blob/master/nbs/dl1/lesson3-imdb.ipynb)\n",
        "2.   The data is about email **spam detection** -- the classes are \"spam\" and \"ham\"\n",
        "3.   Steps we take: (a) download and understand the data, (b) finetune the language model (LM), (c) train the classifier, (d) Evaluate the classifier\n",
        "\n"
      ]
    },
    {
      "cell_type": "code",
      "metadata": {
        "id": "3bxRuNh89NkG",
        "colab_type": "code",
        "colab": {}
      },
      "source": [
        "%reload_ext autoreload\n",
        "%autoreload 2\n",
        "%matplotlib inline"
      ],
      "execution_count": 0,
      "outputs": []
    },
    {
      "cell_type": "code",
      "metadata": {
        "id": "BtocJv3U9NkL",
        "colab_type": "code",
        "colab": {}
      },
      "source": [
        "from fastai.text import *"
      ],
      "execution_count": 0,
      "outputs": []
    },
    {
      "cell_type": "markdown",
      "metadata": {
        "id": "9vhqtaT39NkP",
        "colab_type": "text"
      },
      "source": [
        "## (a) Downloading and Understanding / EDA of the data\n",
        "1. The data is encoded in latin-1, we want to change it to utf-8\n",
        "2. Get some statistics of the data\n",
        "3. Visualize length of the text and its distribution"
      ]
    },
    {
      "cell_type": "code",
      "metadata": {
        "id": "tXlH-pJ59fdZ",
        "colab_type": "code",
        "outputId": "d46c4102-4e30-4dd6-b9ac-24e12d6018fb",
        "colab": {
          "base_uri": "https://localhost:8080/",
          "height": 224
        }
      },
      "source": [
        "!wget https://raw.githubusercontent.com/gwohlgen/misc/master/spam.csv\n",
        "!ls"
      ],
      "execution_count": 0,
      "outputs": [
        {
          "output_type": "stream",
          "text": [
            "--2020-04-25 08:44:29--  https://raw.githubusercontent.com/gwohlgen/misc/master/spam.csv\n",
            "Resolving raw.githubusercontent.com (raw.githubusercontent.com)... 151.101.0.133, 151.101.64.133, 151.101.128.133, ...\n",
            "Connecting to raw.githubusercontent.com (raw.githubusercontent.com)|151.101.0.133|:443... connected.\n",
            "HTTP request sent, awaiting response... 200 OK\n",
            "Length: 503663 (492K) [text/plain]\n",
            "Saving to: ‘spam.csv’\n",
            "\n",
            "\rspam.csv              0%[                    ]       0  --.-KB/s               \rspam.csv            100%[===================>] 491.86K  --.-KB/s    in 0.05s   \n",
            "\n",
            "2020-04-25 08:44:29 (10.2 MB/s) - ‘spam.csv’ saved [503663/503663]\n",
            "\n",
            "sample_data  spam.csv\n"
          ],
          "name": "stdout"
        }
      ]
    },
    {
      "cell_type": "code",
      "metadata": {
        "id": "ksIv4qzs_AWy",
        "colab_type": "code",
        "outputId": "f084c4a4-7c5d-4392-cfc2-186f1544ab86",
        "colab": {
          "base_uri": "https://localhost:8080/",
          "height": 189
        }
      },
      "source": [
        "## change file encoding from latin-1 to utf-8\n",
        "\n",
        "import codecs\n",
        "infile  = codecs.open('spam.csv', 'r', encoding='latin1')\n",
        "outfile = codecs.open('spam-utf8.csv', 'w', encoding='utf-8')\n",
        "\n",
        "list(map(outfile.write, infile))\n",
        "\n",
        "infile.close()\n",
        "outfile.close()\n",
        "!head spam-utf8.csv\n",
        "\n",
        "# ok, data in utf-8 format now\n"
      ],
      "execution_count": 0,
      "outputs": [
        {
          "output_type": "stream",
          "text": [
            "v1,v2,,,\r\n",
            "ham,\"Go until jurong point, crazy.. Available only in bugis n great world la e buffet... Cine there got amore wat...\",,,\r\n",
            "ham,Ok lar... Joking wif u oni...,,,\r\n",
            "spam,Free entry in 2 a wkly comp to win FA Cup final tkts 21st May 2005. Text FA to 87121 to receive entry question(std txt rate)T&C's apply 08452810075over18's,,,\r\n",
            "ham,U dun say so early hor... U c already then say...,,,\r\n",
            "ham,\"Nah I don't think he goes to usf, he lives around here though\",,,\r\n",
            "spam,\"FreeMsg Hey there darling it's been 3 week's now and no word back! I'd like some fun you up for it still? Tb ok! XxX std chgs to send, å£1.50 to rcv\",,,\r\n",
            "ham,Even my brother is not like to speak with me. They treat me like aids patent.,,,\r\n",
            "ham,As per your request 'Melle Melle (Oru Minnaminunginte Nurungu Vettam)' has been set as your callertune for all Callers. Press *9 to copy your friends Callertune,,,\r\n",
            "spam,WINNER!! As a valued network customer you have been selected to receivea å£900 prize reward! To claim call 09061701461. Claim code KL341. Valid 12 hours only.,,,\r\n"
          ],
          "name": "stdout"
        }
      ]
    },
    {
      "cell_type": "code",
      "metadata": {
        "id": "o2cB6Y6b9NkY",
        "colab_type": "code",
        "outputId": "b294d4e1-2eb0-446a-f7bf-319dedc0660f",
        "colab": {
          "base_uri": "https://localhost:8080/",
          "height": 357
        }
      },
      "source": [
        "df = pd.read_csv('spam-utf8.csv')\n",
        "df.head(10)\n"
      ],
      "execution_count": 0,
      "outputs": [
        {
          "output_type": "execute_result",
          "data": {
            "text/html": [
              "<div>\n",
              "<style scoped>\n",
              "    .dataframe tbody tr th:only-of-type {\n",
              "        vertical-align: middle;\n",
              "    }\n",
              "\n",
              "    .dataframe tbody tr th {\n",
              "        vertical-align: top;\n",
              "    }\n",
              "\n",
              "    .dataframe thead th {\n",
              "        text-align: right;\n",
              "    }\n",
              "</style>\n",
              "<table border=\"1\" class=\"dataframe\">\n",
              "  <thead>\n",
              "    <tr style=\"text-align: right;\">\n",
              "      <th></th>\n",
              "      <th>v1</th>\n",
              "      <th>v2</th>\n",
              "      <th>Unnamed: 2</th>\n",
              "      <th>Unnamed: 3</th>\n",
              "      <th>Unnamed: 4</th>\n",
              "    </tr>\n",
              "  </thead>\n",
              "  <tbody>\n",
              "    <tr>\n",
              "      <th>0</th>\n",
              "      <td>ham</td>\n",
              "      <td>Go until jurong point, crazy.. Available only ...</td>\n",
              "      <td>NaN</td>\n",
              "      <td>NaN</td>\n",
              "      <td>NaN</td>\n",
              "    </tr>\n",
              "    <tr>\n",
              "      <th>1</th>\n",
              "      <td>ham</td>\n",
              "      <td>Ok lar... Joking wif u oni...</td>\n",
              "      <td>NaN</td>\n",
              "      <td>NaN</td>\n",
              "      <td>NaN</td>\n",
              "    </tr>\n",
              "    <tr>\n",
              "      <th>2</th>\n",
              "      <td>spam</td>\n",
              "      <td>Free entry in 2 a wkly comp to win FA Cup fina...</td>\n",
              "      <td>NaN</td>\n",
              "      <td>NaN</td>\n",
              "      <td>NaN</td>\n",
              "    </tr>\n",
              "    <tr>\n",
              "      <th>3</th>\n",
              "      <td>ham</td>\n",
              "      <td>U dun say so early hor... U c already then say...</td>\n",
              "      <td>NaN</td>\n",
              "      <td>NaN</td>\n",
              "      <td>NaN</td>\n",
              "    </tr>\n",
              "    <tr>\n",
              "      <th>4</th>\n",
              "      <td>ham</td>\n",
              "      <td>Nah I don't think he goes to usf, he lives aro...</td>\n",
              "      <td>NaN</td>\n",
              "      <td>NaN</td>\n",
              "      <td>NaN</td>\n",
              "    </tr>\n",
              "    <tr>\n",
              "      <th>5</th>\n",
              "      <td>spam</td>\n",
              "      <td>FreeMsg Hey there darling it's been 3 week's n...</td>\n",
              "      <td>NaN</td>\n",
              "      <td>NaN</td>\n",
              "      <td>NaN</td>\n",
              "    </tr>\n",
              "    <tr>\n",
              "      <th>6</th>\n",
              "      <td>ham</td>\n",
              "      <td>Even my brother is not like to speak with me. ...</td>\n",
              "      <td>NaN</td>\n",
              "      <td>NaN</td>\n",
              "      <td>NaN</td>\n",
              "    </tr>\n",
              "    <tr>\n",
              "      <th>7</th>\n",
              "      <td>ham</td>\n",
              "      <td>As per your request 'Melle Melle (Oru Minnamin...</td>\n",
              "      <td>NaN</td>\n",
              "      <td>NaN</td>\n",
              "      <td>NaN</td>\n",
              "    </tr>\n",
              "    <tr>\n",
              "      <th>8</th>\n",
              "      <td>spam</td>\n",
              "      <td>WINNER!! As a valued network customer you have...</td>\n",
              "      <td>NaN</td>\n",
              "      <td>NaN</td>\n",
              "      <td>NaN</td>\n",
              "    </tr>\n",
              "    <tr>\n",
              "      <th>9</th>\n",
              "      <td>spam</td>\n",
              "      <td>Had your mobile 11 months or more? U R entitle...</td>\n",
              "      <td>NaN</td>\n",
              "      <td>NaN</td>\n",
              "      <td>NaN</td>\n",
              "    </tr>\n",
              "  </tbody>\n",
              "</table>\n",
              "</div>"
            ],
            "text/plain": [
              "     v1  ... Unnamed: 4\n",
              "0   ham  ...        NaN\n",
              "1   ham  ...        NaN\n",
              "2  spam  ...        NaN\n",
              "3   ham  ...        NaN\n",
              "4   ham  ...        NaN\n",
              "5  spam  ...        NaN\n",
              "6   ham  ...        NaN\n",
              "7   ham  ...        NaN\n",
              "8  spam  ...        NaN\n",
              "9  spam  ...        NaN\n",
              "\n",
              "[10 rows x 5 columns]"
            ]
          },
          "metadata": {
            "tags": []
          },
          "execution_count": 5
        }
      ]
    },
    {
      "cell_type": "markdown",
      "metadata": {
        "id": "SQcdtZAAaEPz",
        "colab_type": "text"
      },
      "source": [
        "Hmm, why do we have 5 columns, maybe there is a mistake?\n"
      ]
    },
    {
      "cell_type": "code",
      "metadata": {
        "id": "TeEztwV1aCp3",
        "colab_type": "code",
        "outputId": "4cf84a45-07fb-441d-ad52-65997b19e5d2",
        "colab": {
          "base_uri": "https://localhost:8080/",
          "height": 172
        }
      },
      "source": [
        "df.describe()"
      ],
      "execution_count": 0,
      "outputs": [
        {
          "output_type": "execute_result",
          "data": {
            "text/html": [
              "<div>\n",
              "<style scoped>\n",
              "    .dataframe tbody tr th:only-of-type {\n",
              "        vertical-align: middle;\n",
              "    }\n",
              "\n",
              "    .dataframe tbody tr th {\n",
              "        vertical-align: top;\n",
              "    }\n",
              "\n",
              "    .dataframe thead th {\n",
              "        text-align: right;\n",
              "    }\n",
              "</style>\n",
              "<table border=\"1\" class=\"dataframe\">\n",
              "  <thead>\n",
              "    <tr style=\"text-align: right;\">\n",
              "      <th></th>\n",
              "      <th>v1</th>\n",
              "      <th>v2</th>\n",
              "      <th>Unnamed: 2</th>\n",
              "      <th>Unnamed: 3</th>\n",
              "      <th>Unnamed: 4</th>\n",
              "    </tr>\n",
              "  </thead>\n",
              "  <tbody>\n",
              "    <tr>\n",
              "      <th>count</th>\n",
              "      <td>5572</td>\n",
              "      <td>5572</td>\n",
              "      <td>50</td>\n",
              "      <td>12</td>\n",
              "      <td>6</td>\n",
              "    </tr>\n",
              "    <tr>\n",
              "      <th>unique</th>\n",
              "      <td>2</td>\n",
              "      <td>5169</td>\n",
              "      <td>43</td>\n",
              "      <td>10</td>\n",
              "      <td>5</td>\n",
              "    </tr>\n",
              "    <tr>\n",
              "      <th>top</th>\n",
              "      <td>ham</td>\n",
              "      <td>Sorry, I'll call later</td>\n",
              "      <td>bt not his girlfrnd... G o o d n i g h t . . .@\"</td>\n",
              "      <td>GE</td>\n",
              "      <td>GNT:-)\"</td>\n",
              "    </tr>\n",
              "    <tr>\n",
              "      <th>freq</th>\n",
              "      <td>4825</td>\n",
              "      <td>30</td>\n",
              "      <td>3</td>\n",
              "      <td>2</td>\n",
              "      <td>2</td>\n",
              "    </tr>\n",
              "  </tbody>\n",
              "</table>\n",
              "</div>"
            ],
            "text/plain": [
              "          v1                      v2  ... Unnamed: 3 Unnamed: 4\n",
              "count   5572                    5572  ...         12          6\n",
              "unique     2                    5169  ...         10          5\n",
              "top      ham  Sorry, I'll call later  ...         GE    GNT:-)\"\n",
              "freq    4825                      30  ...          2          2\n",
              "\n",
              "[4 rows x 5 columns]"
            ]
          },
          "metadata": {
            "tags": []
          },
          "execution_count": 6
        }
      ]
    },
    {
      "cell_type": "code",
      "metadata": {
        "id": "EukxWR6jfemS",
        "colab_type": "code",
        "outputId": "4f92f5e2-ce9f-4bb0-876c-95ec3990bd84",
        "colab": {
          "base_uri": "https://localhost:8080/",
          "height": 224
        }
      },
      "source": [
        "df.info()"
      ],
      "execution_count": 0,
      "outputs": [
        {
          "output_type": "stream",
          "text": [
            "<class 'pandas.core.frame.DataFrame'>\n",
            "RangeIndex: 5572 entries, 0 to 5571\n",
            "Data columns (total 5 columns):\n",
            " #   Column      Non-Null Count  Dtype \n",
            "---  ------      --------------  ----- \n",
            " 0   v1          5572 non-null   object\n",
            " 1   v2          5572 non-null   object\n",
            " 2   Unnamed: 2  50 non-null     object\n",
            " 3   Unnamed: 3  12 non-null     object\n",
            " 4   Unnamed: 4  6 non-null      object\n",
            "dtypes: object(5)\n",
            "memory usage: 217.8+ KB\n"
          ],
          "name": "stdout"
        }
      ]
    },
    {
      "cell_type": "markdown",
      "metadata": {
        "id": "k6-07dPWaRwz",
        "colab_type": "text"
      },
      "source": [
        "There are 50 / 12 / 6 rows in the unnamed columns, probably a mistake in terms of input separators. All text should be in the second (v2) column, **we have to fix this**!\n"
      ]
    },
    {
      "cell_type": "code",
      "metadata": {
        "id": "z4cCZSCOfmKD",
        "colab_type": "code",
        "outputId": "75c7421d-2631-42ad-f0c4-eb8d78ca86cd",
        "colab": {
          "base_uri": "https://localhost:8080/",
          "height": 1000
        }
      },
      "source": [
        "# show part of df where \"Unnamed: 2\" column has some text -- we want to merge all that into the \"real\" text column\n",
        "df[df[\"Unnamed: 2\"].notna()]\n",
        " "
      ],
      "execution_count": 0,
      "outputs": [
        {
          "output_type": "execute_result",
          "data": {
            "text/html": [
              "<div>\n",
              "<style scoped>\n",
              "    .dataframe tbody tr th:only-of-type {\n",
              "        vertical-align: middle;\n",
              "    }\n",
              "\n",
              "    .dataframe tbody tr th {\n",
              "        vertical-align: top;\n",
              "    }\n",
              "\n",
              "    .dataframe thead th {\n",
              "        text-align: right;\n",
              "    }\n",
              "</style>\n",
              "<table border=\"1\" class=\"dataframe\">\n",
              "  <thead>\n",
              "    <tr style=\"text-align: right;\">\n",
              "      <th></th>\n",
              "      <th>v1</th>\n",
              "      <th>v2</th>\n",
              "      <th>Unnamed: 2</th>\n",
              "      <th>Unnamed: 3</th>\n",
              "      <th>Unnamed: 4</th>\n",
              "    </tr>\n",
              "  </thead>\n",
              "  <tbody>\n",
              "    <tr>\n",
              "      <th>95</th>\n",
              "      <td>spam</td>\n",
              "      <td>Your free ringtone is waiting to be collected....</td>\n",
              "      <td>PO Box 5249</td>\n",
              "      <td>MK17 92H. 450Ppw 16\"</td>\n",
              "      <td>NaN</td>\n",
              "    </tr>\n",
              "    <tr>\n",
              "      <th>281</th>\n",
              "      <td>ham</td>\n",
              "      <td>\\Wen u miss someone</td>\n",
              "      <td>the person is definitely special for u..... B...</td>\n",
              "      <td>why to miss them</td>\n",
              "      <td>just Keep-in-touch\\\" gdeve..\"</td>\n",
              "    </tr>\n",
              "    <tr>\n",
              "      <th>444</th>\n",
              "      <td>ham</td>\n",
              "      <td>\\HEY HEY WERETHE MONKEESPEOPLE SAY WE MONKEYAR...</td>\n",
              "      <td>HOWU DOIN? FOUNDURSELF A JOBYET SAUSAGE?LOVE ...</td>\n",
              "      <td>NaN</td>\n",
              "      <td>NaN</td>\n",
              "    </tr>\n",
              "    <tr>\n",
              "      <th>671</th>\n",
              "      <td>spam</td>\n",
              "      <td>SMS. ac sun0819 posts HELLO:\\You seem cool</td>\n",
              "      <td>wanted to say hi. HI!!!\\\" Stop? Send STOP to ...</td>\n",
              "      <td>NaN</td>\n",
              "      <td>NaN</td>\n",
              "    </tr>\n",
              "    <tr>\n",
              "      <th>710</th>\n",
              "      <td>ham</td>\n",
              "      <td>Height of Confidence: All the Aeronautics prof...</td>\n",
              "      <td>this wont even start........ Datz confidence..\"</td>\n",
              "      <td>NaN</td>\n",
              "      <td>NaN</td>\n",
              "    </tr>\n",
              "    <tr>\n",
              "      <th>899</th>\n",
              "      <td>spam</td>\n",
              "      <td>Your free ringtone is waiting to be collected....</td>\n",
              "      <td>PO Box 5249</td>\n",
              "      <td>MK17 92H. 450Ppw 16\"</td>\n",
              "      <td>NaN</td>\n",
              "    </tr>\n",
              "    <tr>\n",
              "      <th>1038</th>\n",
              "      <td>ham</td>\n",
              "      <td>Edison has rightly said, \\A fool can ask more ...</td>\n",
              "      <td>GN</td>\n",
              "      <td>GE</td>\n",
              "      <td>GNT:-)\"</td>\n",
              "    </tr>\n",
              "    <tr>\n",
              "      <th>1127</th>\n",
              "      <td>ham</td>\n",
              "      <td>Height of \\Oh shit....!!\\\" situation: A guy th...</td>\n",
              "      <td>.;-):-D\"</td>\n",
              "      <td>NaN</td>\n",
              "      <td>NaN</td>\n",
              "    </tr>\n",
              "    <tr>\n",
              "      <th>1266</th>\n",
              "      <td>ham</td>\n",
              "      <td>\\Hey sorry I didntgive ya a a bellearlier hunny</td>\n",
              "      <td>just been in bedbut mite go 2 thepub l8tr if u...</td>\n",
              "      <td>NaN</td>\n",
              "      <td>NaN</td>\n",
              "    </tr>\n",
              "    <tr>\n",
              "      <th>1384</th>\n",
              "      <td>ham</td>\n",
              "      <td>Storming msg: Wen u lift d phne, u say \\HELLO\\...</td>\n",
              "      <td>bt not his girlfrnd... G o o d n i g h t . . .@\"</td>\n",
              "      <td>NaN</td>\n",
              "      <td>NaN</td>\n",
              "    </tr>\n",
              "    <tr>\n",
              "      <th>1428</th>\n",
              "      <td>ham</td>\n",
              "      <td>Tell you what, if you make a little spreadshee...</td>\n",
              "      <td>I'll come up\"</td>\n",
              "      <td>NaN</td>\n",
              "      <td>NaN</td>\n",
              "    </tr>\n",
              "    <tr>\n",
              "      <th>1559</th>\n",
              "      <td>ham</td>\n",
              "      <td>Single line with a big meaning::::: \\Miss anyt...</td>\n",
              "      <td>don't miss ur best life for anything... Gud n...</td>\n",
              "      <td>NaN</td>\n",
              "      <td>NaN</td>\n",
              "    </tr>\n",
              "    <tr>\n",
              "      <th>1637</th>\n",
              "      <td>spam</td>\n",
              "      <td>0A$NETWORKS allow companies to bill for SMS, s...</td>\n",
              "      <td>just as a shop has to give a guarantee on wha...</td>\n",
              "      <td>NaN</td>\n",
              "      <td>NaN</td>\n",
              "    </tr>\n",
              "    <tr>\n",
              "      <th>1669</th>\n",
              "      <td>ham</td>\n",
              "      <td>Very hurting n meaningful lines ever: \\I compr...</td>\n",
              "      <td>But at d end my love compromised me for every...</td>\n",
              "      <td>NaN</td>\n",
              "      <td>NaN</td>\n",
              "    </tr>\n",
              "    <tr>\n",
              "      <th>1675</th>\n",
              "      <td>ham</td>\n",
              "      <td>Painful words- \\I thought being Happy was the ...</td>\n",
              "      <td>the toughest is acting Happy with all unspoke...</td>\n",
              "      <td>NaN</td>\n",
              "      <td>NaN</td>\n",
              "    </tr>\n",
              "    <tr>\n",
              "      <th>1936</th>\n",
              "      <td>ham</td>\n",
              "      <td>My planning usually stops at \\find hella weed</td>\n",
              "      <td>smoke hella weed\\\"\"</td>\n",
              "      <td>NaN</td>\n",
              "      <td>NaN</td>\n",
              "    </tr>\n",
              "    <tr>\n",
              "      <th>1937</th>\n",
              "      <td>ham</td>\n",
              "      <td>The fact that you're cleaning shows you know w...</td>\n",
              "      <td>\\\" not \\\"what i need to do.\\\"\"</td>\n",
              "      <td>NaN</td>\n",
              "      <td>NaN</td>\n",
              "    </tr>\n",
              "    <tr>\n",
              "      <th>1997</th>\n",
              "      <td>ham</td>\n",
              "      <td>\\YEH I AM DEF UP4 SOMETHING SAT</td>\n",
              "      <td>JUST GOT PAYED2DAY &amp; I HAVBEEN GIVEN Aå£50 PAY...</td>\n",
              "      <td>NaN</td>\n",
              "      <td>NaN</td>\n",
              "    </tr>\n",
              "    <tr>\n",
              "      <th>2087</th>\n",
              "      <td>ham</td>\n",
              "      <td>\\alright babe</td>\n",
              "      <td>justthought iåÕd sayhey! how u doin?nearly th...</td>\n",
              "      <td>NaN</td>\n",
              "      <td>NaN</td>\n",
              "    </tr>\n",
              "    <tr>\n",
              "      <th>2170</th>\n",
              "      <td>ham</td>\n",
              "      <td>\\CAN I PLEASE COME UP NOW IMIN TOWN.DONTMATTER...</td>\n",
              "      <td>JUST REALLYNEED 2DOCD.PLEASE DONTPLEASE DONTIG...</td>\n",
              "      <td>U NO THECD ISV.IMPORTANT TOME 4 2MORO\\\"\"</td>\n",
              "      <td>NaN</td>\n",
              "    </tr>\n",
              "    <tr>\n",
              "      <th>2235</th>\n",
              "      <td>ham</td>\n",
              "      <td>\\Si.como no?!listened2the plaid album-quite gd...</td>\n",
              "      <td>u hav2hear it!c u sn xxxx\\\"\"</td>\n",
              "      <td>NaN</td>\n",
              "      <td>NaN</td>\n",
              "    </tr>\n",
              "    <tr>\n",
              "      <th>2255</th>\n",
              "      <td>ham</td>\n",
              "      <td>I just lov this line: \\Hurt me with the truth</td>\n",
              "      <td>I don't mind</td>\n",
              "      <td>i wil tolerat.bcs ur my someone..... But</td>\n",
              "      <td>Never comfort me with a lie\\\" gud ni8 and swe...</td>\n",
              "    </tr>\n",
              "    <tr>\n",
              "      <th>2406</th>\n",
              "      <td>ham</td>\n",
              "      <td>One of best dialogue in cute reltnship..!! \\We...</td>\n",
              "      <td>Dont Come Near My Body..!! Bcoz My Hands May ...</td>\n",
              "      <td>NaN</td>\n",
              "      <td>NaN</td>\n",
              "    </tr>\n",
              "    <tr>\n",
              "      <th>2791</th>\n",
              "      <td>ham</td>\n",
              "      <td>Û_ we r stayin here an extra week, back next ...</td>\n",
              "      <td>Well there's still a bit left if you guys want...</td>\n",
              "      <td>NaN</td>\n",
              "      <td>NaN</td>\n",
              "    </tr>\n",
              "    <tr>\n",
              "      <th>2970</th>\n",
              "      <td>ham</td>\n",
              "      <td>Height of Confidence: All the Aeronautics prof...</td>\n",
              "      <td>this wont even start........ Datz confidence..\"</td>\n",
              "      <td>NaN</td>\n",
              "      <td>NaN</td>\n",
              "    </tr>\n",
              "    <tr>\n",
              "      <th>3110</th>\n",
              "      <td>ham</td>\n",
              "      <td>Short But Cute : \\ Be a good person</td>\n",
              "      <td>but dont try to prove\\\" ..... Gud mrng...\"</td>\n",
              "      <td>NaN</td>\n",
              "      <td>NaN</td>\n",
              "    </tr>\n",
              "    <tr>\n",
              "      <th>3145</th>\n",
              "      <td>ham</td>\n",
              "      <td>\\SHIT BABE.. THASA BIT MESSED UP.YEH</td>\n",
              "      <td>SHE SHUDVETOLD U. DID URGRAN KNOW?NEWAY</td>\n",
              "      <td>ILLSPEAK 2 U2MORO WEN IM NOT ASLEEP...\\\"\"</td>\n",
              "      <td>NaN</td>\n",
              "    </tr>\n",
              "    <tr>\n",
              "      <th>3239</th>\n",
              "      <td>ham</td>\n",
              "      <td>A cute thought for friendship: \\Its not necess...</td>\n",
              "      <td>but watever u shared should be true\\\"....\"</td>\n",
              "      <td>NaN</td>\n",
              "      <td>NaN</td>\n",
              "    </tr>\n",
              "    <tr>\n",
              "      <th>3506</th>\n",
              "      <td>ham</td>\n",
              "      <td>Two fundamentals of cool life: \\Walk</td>\n",
              "      <td>like you are the KING\\\"...! OR \\\"Walk like yo...</td>\n",
              "      <td>whoever is the KING\\\"!... Gud nyt\"</td>\n",
              "      <td>NaN</td>\n",
              "    </tr>\n",
              "    <tr>\n",
              "      <th>3525</th>\n",
              "      <td>ham</td>\n",
              "      <td>\\HEY BABE! FAR 2 SPUN-OUT 2 SPK AT DA MO... DE...</td>\n",
              "      <td>HAD A COOL NYTHO</td>\n",
              "      <td>TX 4 FONIN HON</td>\n",
              "      <td>CALL 2MWEN IM BK FRMCLOUD 9! J X\\\"\"</td>\n",
              "    </tr>\n",
              "    <tr>\n",
              "      <th>3547</th>\n",
              "      <td>ham</td>\n",
              "      <td>Single line with a big meaning::::: \\Miss anyt...</td>\n",
              "      <td>don't miss ur best life for anything... Gud n...</td>\n",
              "      <td>NaN</td>\n",
              "      <td>NaN</td>\n",
              "    </tr>\n",
              "    <tr>\n",
              "      <th>3640</th>\n",
              "      <td>spam</td>\n",
              "      <td>You can stop further club tones by replying \\S...</td>\n",
              "      <td>PO Box 1146 MK45 2WT (2/3)\"</td>\n",
              "      <td>NaN</td>\n",
              "      <td>NaN</td>\n",
              "    </tr>\n",
              "    <tr>\n",
              "      <th>3758</th>\n",
              "      <td>ham</td>\n",
              "      <td>GOD ASKED, \\What is forgiveness?\\\" A little ch...</td>\n",
              "      <td>\\\"It is d wonderful fruit that a tree gives w...</td>\n",
              "      <td>NaN</td>\n",
              "      <td>NaN</td>\n",
              "    </tr>\n",
              "    <tr>\n",
              "      <th>3788</th>\n",
              "      <td>ham</td>\n",
              "      <td>Are you sure you don't mean \\get here</td>\n",
              "      <td>we made you hold all the weed\\\"\"</td>\n",
              "      <td>NaN</td>\n",
              "      <td>NaN</td>\n",
              "    </tr>\n",
              "    <tr>\n",
              "      <th>3793</th>\n",
              "      <td>ham</td>\n",
              "      <td>Short But Cute: \\Be a good person</td>\n",
              "      <td>but dont try to prove it..\\\" .Gud noon....\"</td>\n",
              "      <td>NaN</td>\n",
              "      <td>NaN</td>\n",
              "    </tr>\n",
              "    <tr>\n",
              "      <th>3881</th>\n",
              "      <td>ham</td>\n",
              "      <td>Short But Cute: \\Be a good person</td>\n",
              "      <td>but dont try to prove it..\\\" .Gud noon....\"</td>\n",
              "      <td>NaN</td>\n",
              "      <td>NaN</td>\n",
              "    </tr>\n",
              "    <tr>\n",
              "      <th>4130</th>\n",
              "      <td>ham</td>\n",
              "      <td>\\Its Ur luck to Love someone. Its Ur fortune t...</td>\n",
              "      <td>its a miracle to Love a person who can't Love...</td>\n",
              "      <td>NaN</td>\n",
              "      <td>NaN</td>\n",
              "    </tr>\n",
              "    <tr>\n",
              "      <th>4224</th>\n",
              "      <td>ham</td>\n",
              "      <td>\\The world suffers a lot... Not because of the...</td>\n",
              "      <td>Gud night....\"</td>\n",
              "      <td>NaN</td>\n",
              "      <td>NaN</td>\n",
              "    </tr>\n",
              "    <tr>\n",
              "      <th>4454</th>\n",
              "      <td>ham</td>\n",
              "      <td>Storming msg: Wen u lift d phne, u say \\HELLO\\...</td>\n",
              "      <td>bt not his girlfrnd... G o o d n i g h t . . .@\"</td>\n",
              "      <td>NaN</td>\n",
              "      <td>NaN</td>\n",
              "    </tr>\n",
              "    <tr>\n",
              "      <th>4455</th>\n",
              "      <td>ham</td>\n",
              "      <td>If you want to mapquest it or something look u...</td>\n",
              "      <td>that's the tiny street where the parking lot is\"</td>\n",
              "      <td>NaN</td>\n",
              "      <td>NaN</td>\n",
              "    </tr>\n",
              "    <tr>\n",
              "      <th>4570</th>\n",
              "      <td>ham</td>\n",
              "      <td>\\CHA QUITEAMUZING THATåÕSCOOL BABE</td>\n",
              "      <td>PROBPOP IN &amp; CU SATTHEN HUNNY 4BREKKIE! LOVE J...</td>\n",
              "      <td>NaN</td>\n",
              "      <td>NaN</td>\n",
              "    </tr>\n",
              "    <tr>\n",
              "      <th>4601</th>\n",
              "      <td>ham</td>\n",
              "      <td>\\Hey j! r u feeling any better</td>\n",
              "      <td>hopeSo hunny. i amnow feelin ill &amp; ithink i m...</td>\n",
              "      <td>NaN</td>\n",
              "      <td>NaN</td>\n",
              "    </tr>\n",
              "    <tr>\n",
              "      <th>4668</th>\n",
              "      <td>ham</td>\n",
              "      <td>When I was born, GOD said, \\Oh No! Another IDI...</td>\n",
              "      <td>GOD said</td>\n",
              "      <td>\\\"OH No! COMPETITION\\\". Who knew</td>\n",
              "      <td>one day these two will become FREINDS FOREVER!\"</td>\n",
              "    </tr>\n",
              "    <tr>\n",
              "      <th>4859</th>\n",
              "      <td>ham</td>\n",
              "      <td>\\Response\\\" is one of d powerful weapon 2 occu...</td>\n",
              "      <td>always give response 2 who cares 4 U\\\"... Gud...</td>\n",
              "      <td>NaN</td>\n",
              "      <td>NaN</td>\n",
              "    </tr>\n",
              "    <tr>\n",
              "      <th>4992</th>\n",
              "      <td>ham</td>\n",
              "      <td>\\HEY KATE</td>\n",
              "      <td>HOPE UR OK... WILL GIVE U A BUZ WEDLUNCH. GO ...</td>\n",
              "      <td>NaN</td>\n",
              "      <td>NaN</td>\n",
              "    </tr>\n",
              "    <tr>\n",
              "      <th>5048</th>\n",
              "      <td>ham</td>\n",
              "      <td>Edison has rightly said, \\A fool can ask more ...</td>\n",
              "      <td>GN</td>\n",
              "      <td>GE</td>\n",
              "      <td>GNT:-)\"</td>\n",
              "    </tr>\n",
              "    <tr>\n",
              "      <th>5079</th>\n",
              "      <td>ham</td>\n",
              "      <td>\\Keep ur problems in ur heart</td>\n",
              "      <td>b'coz nobody will fight for u. Only u &amp;amp; u...</td>\n",
              "      <td>NaN</td>\n",
              "      <td>NaN</td>\n",
              "    </tr>\n",
              "    <tr>\n",
              "      <th>5081</th>\n",
              "      <td>ham</td>\n",
              "      <td>\\HI BABE UAWAKE?FEELLIKW SHIT.JUSTFOUND OUT VI...</td>\n",
              "      <td>DEVIOUSBITCH.ANYWAY</td>\n",
              "      <td>IåÕL CALL U\\\"\"</td>\n",
              "      <td>NaN</td>\n",
              "    </tr>\n",
              "    <tr>\n",
              "      <th>5264</th>\n",
              "      <td>ham</td>\n",
              "      <td>Storming msg: Wen u lift d phne, u say \\HELLO\\...</td>\n",
              "      <td>bt not his girlfrnd... G o o d n i g h t . . .@\"</td>\n",
              "      <td>NaN</td>\n",
              "      <td>NaN</td>\n",
              "    </tr>\n",
              "    <tr>\n",
              "      <th>5268</th>\n",
              "      <td>ham</td>\n",
              "      <td>\\ER</td>\n",
              "      <td>ENJOYIN INDIANS AT THE MO..yeP. SaLL gOoD Heh...</td>\n",
              "      <td>NaN</td>\n",
              "      <td>NaN</td>\n",
              "    </tr>\n",
              "  </tbody>\n",
              "</table>\n",
              "</div>"
            ],
            "text/plain": [
              "        v1  ...                                         Unnamed: 4\n",
              "95    spam  ...                                                NaN\n",
              "281    ham  ...                      just Keep-in-touch\\\" gdeve..\"\n",
              "444    ham  ...                                                NaN\n",
              "671   spam  ...                                                NaN\n",
              "710    ham  ...                                                NaN\n",
              "899   spam  ...                                                NaN\n",
              "1038   ham  ...                                            GNT:-)\"\n",
              "1127   ham  ...                                                NaN\n",
              "1266   ham  ...                                                NaN\n",
              "1384   ham  ...                                                NaN\n",
              "1428   ham  ...                                                NaN\n",
              "1559   ham  ...                                                NaN\n",
              "1637  spam  ...                                                NaN\n",
              "1669   ham  ...                                                NaN\n",
              "1675   ham  ...                                                NaN\n",
              "1936   ham  ...                                                NaN\n",
              "1937   ham  ...                                                NaN\n",
              "1997   ham  ...                                                NaN\n",
              "2087   ham  ...                                                NaN\n",
              "2170   ham  ...                                                NaN\n",
              "2235   ham  ...                                                NaN\n",
              "2255   ham  ...   Never comfort me with a lie\\\" gud ni8 and swe...\n",
              "2406   ham  ...                                                NaN\n",
              "2791   ham  ...                                                NaN\n",
              "2970   ham  ...                                                NaN\n",
              "3110   ham  ...                                                NaN\n",
              "3145   ham  ...                                                NaN\n",
              "3239   ham  ...                                                NaN\n",
              "3506   ham  ...                                                NaN\n",
              "3525   ham  ...                CALL 2MWEN IM BK FRMCLOUD 9! J X\\\"\"\n",
              "3547   ham  ...                                                NaN\n",
              "3640  spam  ...                                                NaN\n",
              "3758   ham  ...                                                NaN\n",
              "3788   ham  ...                                                NaN\n",
              "3793   ham  ...                                                NaN\n",
              "3881   ham  ...                                                NaN\n",
              "4130   ham  ...                                                NaN\n",
              "4224   ham  ...                                                NaN\n",
              "4454   ham  ...                                                NaN\n",
              "4455   ham  ...                                                NaN\n",
              "4570   ham  ...                                                NaN\n",
              "4601   ham  ...                                                NaN\n",
              "4668   ham  ...    one day these two will become FREINDS FOREVER!\"\n",
              "4859   ham  ...                                                NaN\n",
              "4992   ham  ...                                                NaN\n",
              "5048   ham  ...                                            GNT:-)\"\n",
              "5079   ham  ...                                                NaN\n",
              "5081   ham  ...                                                NaN\n",
              "5264   ham  ...                                                NaN\n",
              "5268   ham  ...                                                NaN\n",
              "\n",
              "[50 rows x 5 columns]"
            ]
          },
          "metadata": {
            "tags": []
          },
          "execution_count": 8
        }
      ]
    },
    {
      "cell_type": "code",
      "metadata": {
        "id": "qvXG13_xfmXd",
        "colab_type": "code",
        "colab": {}
      },
      "source": [
        "# ok, we want to concat everything into the text column\n",
        "# rename columns to something nicer\n",
        "df.columns = ['label','text_orig','e1', 'e2','e3']\n"
      ],
      "execution_count": 0,
      "outputs": []
    },
    {
      "cell_type": "code",
      "metadata": {
        "id": "aU-Xh3FWfmjF",
        "colab_type": "code",
        "outputId": "c92fe414-76a0-4f4c-d306-1a8970dd6594",
        "colab": {
          "base_uri": "https://localhost:8080/",
          "height": 669
        }
      },
      "source": [
        "# let's try some ways to merge e1,e2,e3 into 'text'\n",
        "\n",
        "# does this work? No, because of NaN\n",
        "df['text'] = df['text_orig'] + df['e1'] + df['e2'] + df['e3']\n",
        "print(df['text'].head())\n",
        "print('\\n\\n')\n",
        "\n",
        "\n",
        "# does this work? No, \"nannannan\" appended to the end\n",
        "df['text'] = df['text_orig'] + df['e1'].astype(str) + df['e2'].astype(str) + df['e3'].astype(str)\n",
        "print(df.head())\n",
        "print(df.iloc[0,5])\n",
        "print('\\n\\n')\n",
        "\n",
        "# this is a solution -- na_rep is important in our case!\n",
        "df[\"text\"] = df[\"text_orig\"].str.cat(df[['e1','e2','e3']], sep =\" \", na_rep='')\n",
        "\n",
        "# test on a few examples\n",
        "print(df.iloc[0,5])   # e1, e2, e3 == NaN\n",
        "print(df.iloc[95,5])  # e3 = NaN\n",
        "print(df.iloc[281,5]) # all e1-e3 have text in them\n",
        "print('\\n\\n')\n",
        "\n",
        "# save the result into df_clean\n",
        "df_clean = df[[\"label\", \"text\"]]\n",
        "df_clean.head()"
      ],
      "execution_count": 0,
      "outputs": [
        {
          "output_type": "stream",
          "text": [
            "0    NaN\n",
            "1    NaN\n",
            "2    NaN\n",
            "3    NaN\n",
            "4    NaN\n",
            "Name: text, dtype: object\n",
            "\n",
            "\n",
            "\n",
            "  label  ...                                               text\n",
            "0   ham  ...  Go until jurong point, crazy.. Available only ...\n",
            "1   ham  ...             Ok lar... Joking wif u oni...nannannan\n",
            "2  spam  ...  Free entry in 2 a wkly comp to win FA Cup fina...\n",
            "3   ham  ...  U dun say so early hor... U c already then say...\n",
            "4   ham  ...  Nah I don't think he goes to usf, he lives aro...\n",
            "\n",
            "[5 rows x 6 columns]\n",
            "Go until jurong point, crazy.. Available only in bugis n great world la e buffet... Cine there got amore wat...nannannan\n",
            "\n",
            "\n",
            "\n",
            "Go until jurong point, crazy.. Available only in bugis n great world la e buffet... Cine there got amore wat...   \n",
            "Your free ringtone is waiting to be collected. Simply text the password \\MIX\\\" to 85069 to verify. Get Usher and Britney. FML  PO Box 5249  MK17 92H. 450Ppw 16\" \n",
            "\\Wen u miss someone  the person is definitely special for u..... But if the person is so special  why to miss them  just Keep-in-touch\\\" gdeve..\"\n",
            "\n",
            "\n",
            "\n"
          ],
          "name": "stdout"
        },
        {
          "output_type": "execute_result",
          "data": {
            "text/html": [
              "<div>\n",
              "<style scoped>\n",
              "    .dataframe tbody tr th:only-of-type {\n",
              "        vertical-align: middle;\n",
              "    }\n",
              "\n",
              "    .dataframe tbody tr th {\n",
              "        vertical-align: top;\n",
              "    }\n",
              "\n",
              "    .dataframe thead th {\n",
              "        text-align: right;\n",
              "    }\n",
              "</style>\n",
              "<table border=\"1\" class=\"dataframe\">\n",
              "  <thead>\n",
              "    <tr style=\"text-align: right;\">\n",
              "      <th></th>\n",
              "      <th>label</th>\n",
              "      <th>text</th>\n",
              "    </tr>\n",
              "  </thead>\n",
              "  <tbody>\n",
              "    <tr>\n",
              "      <th>0</th>\n",
              "      <td>ham</td>\n",
              "      <td>Go until jurong point, crazy.. Available only ...</td>\n",
              "    </tr>\n",
              "    <tr>\n",
              "      <th>1</th>\n",
              "      <td>ham</td>\n",
              "      <td>Ok lar... Joking wif u oni...</td>\n",
              "    </tr>\n",
              "    <tr>\n",
              "      <th>2</th>\n",
              "      <td>spam</td>\n",
              "      <td>Free entry in 2 a wkly comp to win FA Cup fina...</td>\n",
              "    </tr>\n",
              "    <tr>\n",
              "      <th>3</th>\n",
              "      <td>ham</td>\n",
              "      <td>U dun say so early hor... U c already then say...</td>\n",
              "    </tr>\n",
              "    <tr>\n",
              "      <th>4</th>\n",
              "      <td>ham</td>\n",
              "      <td>Nah I don't think he goes to usf, he lives aro...</td>\n",
              "    </tr>\n",
              "  </tbody>\n",
              "</table>\n",
              "</div>"
            ],
            "text/plain": [
              "  label                                               text\n",
              "0   ham  Go until jurong point, crazy.. Available only ...\n",
              "1   ham                   Ok lar... Joking wif u oni...   \n",
              "2  spam  Free entry in 2 a wkly comp to win FA Cup fina...\n",
              "3   ham  U dun say so early hor... U c already then say...\n",
              "4   ham  Nah I don't think he goes to usf, he lives aro..."
            ]
          },
          "metadata": {
            "tags": []
          },
          "execution_count": 10
        }
      ]
    },
    {
      "cell_type": "code",
      "metadata": {
        "id": "-F944LGrfm0Y",
        "colab_type": "code",
        "outputId": "446f82e6-8429-437e-c816-b39625a32e97",
        "colab": {
          "base_uri": "https://localhost:8080/",
          "height": 172
        }
      },
      "source": [
        "df_clean.describe()"
      ],
      "execution_count": 0,
      "outputs": [
        {
          "output_type": "execute_result",
          "data": {
            "text/html": [
              "<div>\n",
              "<style scoped>\n",
              "    .dataframe tbody tr th:only-of-type {\n",
              "        vertical-align: middle;\n",
              "    }\n",
              "\n",
              "    .dataframe tbody tr th {\n",
              "        vertical-align: top;\n",
              "    }\n",
              "\n",
              "    .dataframe thead th {\n",
              "        text-align: right;\n",
              "    }\n",
              "</style>\n",
              "<table border=\"1\" class=\"dataframe\">\n",
              "  <thead>\n",
              "    <tr style=\"text-align: right;\">\n",
              "      <th></th>\n",
              "      <th>label</th>\n",
              "      <th>text</th>\n",
              "    </tr>\n",
              "  </thead>\n",
              "  <tbody>\n",
              "    <tr>\n",
              "      <th>count</th>\n",
              "      <td>5572</td>\n",
              "      <td>5572</td>\n",
              "    </tr>\n",
              "    <tr>\n",
              "      <th>unique</th>\n",
              "      <td>2</td>\n",
              "      <td>5169</td>\n",
              "    </tr>\n",
              "    <tr>\n",
              "      <th>top</th>\n",
              "      <td>ham</td>\n",
              "      <td>Sorry, I'll call later</td>\n",
              "    </tr>\n",
              "    <tr>\n",
              "      <th>freq</th>\n",
              "      <td>4825</td>\n",
              "      <td>30</td>\n",
              "    </tr>\n",
              "  </tbody>\n",
              "</table>\n",
              "</div>"
            ],
            "text/plain": [
              "       label                       text\n",
              "count   5572                       5572\n",
              "unique     2                       5169\n",
              "top      ham  Sorry, I'll call later   \n",
              "freq    4825                         30"
            ]
          },
          "metadata": {
            "tags": []
          },
          "execution_count": 11
        }
      ]
    },
    {
      "cell_type": "markdown",
      "metadata": {
        "id": "Khl6iPqGLH0f",
        "colab_type": "text"
      },
      "source": [
        "Ok, we have some **text duplicates** (5169 unique out of 5572), that's not too great, **let's remove them**\n"
      ]
    },
    {
      "cell_type": "code",
      "metadata": {
        "id": "B2WDZAe0LY98",
        "colab_type": "code",
        "outputId": "703b8cec-ef60-4615-d1e4-5c583680fab5",
        "colab": {
          "base_uri": "https://localhost:8080/",
          "height": 172
        }
      },
      "source": [
        "df_final = df_clean.drop_duplicates(subset=\"text\", keep = 'first', inplace = False)\n",
        "df_final.describe()"
      ],
      "execution_count": 0,
      "outputs": [
        {
          "output_type": "execute_result",
          "data": {
            "text/html": [
              "<div>\n",
              "<style scoped>\n",
              "    .dataframe tbody tr th:only-of-type {\n",
              "        vertical-align: middle;\n",
              "    }\n",
              "\n",
              "    .dataframe tbody tr th {\n",
              "        vertical-align: top;\n",
              "    }\n",
              "\n",
              "    .dataframe thead th {\n",
              "        text-align: right;\n",
              "    }\n",
              "</style>\n",
              "<table border=\"1\" class=\"dataframe\">\n",
              "  <thead>\n",
              "    <tr style=\"text-align: right;\">\n",
              "      <th></th>\n",
              "      <th>label</th>\n",
              "      <th>text</th>\n",
              "    </tr>\n",
              "  </thead>\n",
              "  <tbody>\n",
              "    <tr>\n",
              "      <th>count</th>\n",
              "      <td>5169</td>\n",
              "      <td>5169</td>\n",
              "    </tr>\n",
              "    <tr>\n",
              "      <th>unique</th>\n",
              "      <td>2</td>\n",
              "      <td>5169</td>\n",
              "    </tr>\n",
              "    <tr>\n",
              "      <th>top</th>\n",
              "      <td>ham</td>\n",
              "      <td>Then get some cash together and I'll text jaso...</td>\n",
              "    </tr>\n",
              "    <tr>\n",
              "      <th>freq</th>\n",
              "      <td>4516</td>\n",
              "      <td>1</td>\n",
              "    </tr>\n",
              "  </tbody>\n",
              "</table>\n",
              "</div>"
            ],
            "text/plain": [
              "       label                                               text\n",
              "count   5169                                               5169\n",
              "unique     2                                               5169\n",
              "top      ham  Then get some cash together and I'll text jaso...\n",
              "freq    4516                                                  1"
            ]
          },
          "metadata": {
            "tags": []
          },
          "execution_count": 12
        }
      ]
    },
    {
      "cell_type": "code",
      "metadata": {
        "id": "bZKxv92NMfHL",
        "colab_type": "code",
        "outputId": "4ce3197e-30f4-477b-de58-bb0f70f6babe",
        "colab": {
          "base_uri": "https://localhost:8080/",
          "height": 189
        }
      },
      "source": [
        "df_final.to_csv('spam_final.csv')\n",
        "!head spam_final.csv\n"
      ],
      "execution_count": 0,
      "outputs": [
        {
          "output_type": "stream",
          "text": [
            ",label,text\n",
            "0,ham,\"Go until jurong point, crazy.. Available only in bugis n great world la e buffet... Cine there got amore wat...   \"\n",
            "1,ham,Ok lar... Joking wif u oni...   \n",
            "2,spam,Free entry in 2 a wkly comp to win FA Cup final tkts 21st May 2005. Text FA to 87121 to receive entry question(std txt rate)T&C's apply 08452810075over18's   \n",
            "3,ham,U dun say so early hor... U c already then say...   \n",
            "4,ham,\"Nah I don't think he goes to usf, he lives around here though   \"\n",
            "5,spam,\"FreeMsg Hey there darling it's been 3 week's now and no word back! I'd like some fun you up for it still? Tb ok! XxX std chgs to send, å£1.50 to rcv   \"\n",
            "6,ham,Even my brother is not like to speak with me. They treat me like aids patent.   \n",
            "7,ham,As per your request 'Melle Melle (Oru Minnaminunginte Nurungu Vettam)' has been set as your callertune for all Callers. Press *9 to copy your friends Callertune   \n",
            "8,spam,WINNER!! As a valued network customer you have been selected to receivea å£900 prize reward! To claim call 09061701461. Claim code KL341. Valid 12 hours only.   \n"
          ],
          "name": "stdout"
        }
      ]
    },
    {
      "cell_type": "markdown",
      "metadata": {
        "id": "6L9ltKwXKFr9",
        "colab_type": "text"
      },
      "source": [
        "**Dataset cleanup finished .. this is often one of the most time-intense steps**\n",
        "\n",
        "Let's continue with some more EDA\n",
        "\n"
      ]
    },
    {
      "cell_type": "code",
      "metadata": {
        "id": "greru2FYKaHe",
        "colab_type": "code",
        "outputId": "cec30f5f-a2c9-4b1f-a748-ac26dd092672",
        "colab": {
          "base_uri": "https://localhost:8080/",
          "height": 172
        }
      },
      "source": [
        "text_length = df_final['text'].str.len()\n",
        "text_length.describe()"
      ],
      "execution_count": 0,
      "outputs": [
        {
          "output_type": "execute_result",
          "data": {
            "text/plain": [
              "count    5169.000000\n",
              "mean       82.527762\n",
              "std        58.467143\n",
              "min         5.000000\n",
              "25%        39.000000\n",
              "50%        64.000000\n",
              "75%       122.000000\n",
              "max       913.000000\n",
              "Name: text, dtype: float64"
            ]
          },
          "metadata": {
            "tags": []
          },
          "execution_count": 14
        }
      ]
    },
    {
      "cell_type": "markdown",
      "metadata": {
        "id": "mbDYQjqgdc0h",
        "colab_type": "text"
      },
      "source": [
        "text_lengh.describe() shows us, that the avg text lenght is only 82 chars, so we have rather **short texts** to classify, typically one or 2 sentences. \n",
        "Below we want to visualize text_length of our documents."
      ]
    },
    {
      "cell_type": "code",
      "metadata": {
        "id": "zBvh9W-OKaTC",
        "colab_type": "code",
        "outputId": "70a4fec7-cbc9-494c-89d5-a4bfb1bc0c24",
        "colab": {
          "base_uri": "https://localhost:8080/",
          "height": 337
        }
      },
      "source": [
        "# plot length of first 500 texts\n",
        "plt.figure()\n",
        "text_length.iloc[1:500].plot(label='Number of Characters', figsize=(20, 5))\n",
        "plt.legend(loc='best')"
      ],
      "execution_count": 0,
      "outputs": [
        {
          "output_type": "execute_result",
          "data": {
            "text/plain": [
              "<matplotlib.legend.Legend at 0x7f472fdfe128>"
            ]
          },
          "metadata": {
            "tags": []
          },
          "execution_count": 15
        },
        {
          "output_type": "display_data",
          "data": {
            "image/png": "[encoded data removed]",
            "text/plain": [
              "<Figure size 1440x360 with 1 Axes>"
            ]
          },
          "metadata": {
            "tags": [],
            "needs_background": "light"
          }
        }
      ]
    },
    {
      "cell_type": "code",
      "metadata": {
        "id": "mmX-A3snKauH",
        "colab_type": "code",
        "outputId": "33436e7e-aeaf-4e00-a091-34a00daf04e5",
        "colab": {
          "base_uri": "https://localhost:8080/",
          "height": 282
        }
      },
      "source": [
        "# density plot\n",
        "text_length.plot(kind='kde', figsize=(25,4))\n",
        "print(\"It's interesting that we have 2 peaks, one peak with documents around 35 chars long, and one around 150 chars  \")\n"
      ],
      "execution_count": 0,
      "outputs": [
        {
          "output_type": "stream",
          "text": [
            "It's interesting that we have 2 peaks, one peak with documents around 35 chars long, and one around 150 chars  \n"
          ],
          "name": "stdout"
        },
        {
          "output_type": "display_data",
          "data": {
            "image/png": "[encoded data removed]",
            "text/plain": [
              "<Figure size 1800x288 with 1 Axes>"
            ]
          },
          "metadata": {
            "tags": [],
            "needs_background": "light"
          }
        }
      ]
    },
    {
      "cell_type": "markdown",
      "metadata": {
        "id": "somco4u_9NlP",
        "colab_type": "text"
      },
      "source": [
        "## (b) Language model fine-tuning"
      ]
    },
    {
      "cell_type": "markdown",
      "metadata": {
        "id": "tzZlYK4w9NlQ",
        "colab_type": "text"
      },
      "source": [
        "*Note* that language models can use a lot of GPU, so you may need to decrease batchsize here.\n"
      ]
    },
    {
      "cell_type": "code",
      "metadata": {
        "id": "P0rvmAhc9NlR",
        "colab_type": "code",
        "colab": {}
      },
      "source": [
        "bs=48"
      ],
      "execution_count": 0,
      "outputs": []
    },
    {
      "cell_type": "markdown",
      "metadata": {
        "id": "RzNzGPZt9NlU",
        "colab_type": "text"
      },
      "source": [
        "Now let's grab the full dataset for what follows."
      ]
    },
    {
      "cell_type": "markdown",
      "metadata": {
        "id": "h2Kopgct9Nld",
        "colab_type": "text"
      },
      "source": [
        "This is where the unlabelled data is going to be useful to us, as we can use it to fine-tune our model. Let's create our data-lm object with the data block API (next line may take a few minutes)."
      ]
    },
    {
      "cell_type": "code",
      "metadata": {
        "id": "BrSrpDuD9Nle",
        "colab_type": "code",
        "outputId": "b7466466-f6a3-460f-d2ee-cc1e354ee05e",
        "colab": {
          "base_uri": "https://localhost:8080/",
          "height": 17
        }
      },
      "source": [
        "data_lm = (TextList.from_csv('.', 'spam_final.csv', cols='text')\n",
        "                .split_by_rand_pct(0.1, seed=42) # split into train and val (90/10%)\n",
        "                .label_for_lm() # train LM as a self-supervised task\n",
        "                .databunch())\n",
        "\n",
        "# save and load -- relevant if we have large models that take a long time to compute\n",
        "data_lm.save('data_lm.pkl')"
      ],
      "execution_count": 0,
      "outputs": [
        {
          "output_type": "display_data",
          "data": {
            "text/html": [
              ""
            ],
            "text/plain": [
              "<IPython.core.display.HTML object>"
            ]
          },
          "metadata": {
            "tags": []
          }
        },
        {
          "output_type": "display_data",
          "data": {
            "text/html": [
              ""
            ],
            "text/plain": [
              "<IPython.core.display.HTML object>"
            ]
          },
          "metadata": {
            "tags": []
          }
        }
      ]
    },
    {
      "cell_type": "code",
      "metadata": {
        "id": "2RRvWio29Nlh",
        "colab_type": "code",
        "colab": {}
      },
      "source": [
        "data_lm = load_data(\".\", 'data_lm.pkl', bs=bs)"
      ],
      "execution_count": 0,
      "outputs": []
    },
    {
      "cell_type": "code",
      "metadata": {
        "id": "nSM1Q5Kq9Nlk",
        "colab_type": "code",
        "outputId": "eda289cb-3ed2-4763-dae3-484bcc0b8c86",
        "colab": {
          "base_uri": "https://localhost:8080/",
          "height": 289
        }
      },
      "source": [
        "data_lm.show_batch()"
      ],
      "execution_count": 0,
      "outputs": [
        {
          "output_type": "display_data",
          "data": {
            "text/html": [
              "<table border=\"1\" class=\"dataframe\">\n",
              "  <thead>\n",
              "    <tr style=\"text-align: right;\">\n",
              "      <th>idx</th>\n",
              "      <th>text</th>\n",
              "    </tr>\n",
              "  </thead>\n",
              "  <tbody>\n",
              "    <tr>\n",
              "      <td>0</td>\n",
              "      <td>xxunk txt xxunk 's apply xxunk 's xxbos u dun say so early xxunk ... u c already then say ... xxbos xxmaj nah i do n't think he goes to usf , he lives around here though xxbos freemsg xxmaj hey there darling it 's been 3 week 's now and no word back ! i 'd like some fun you up for it still ? xxmaj tb ok</td>\n",
              "    </tr>\n",
              "    <tr>\n",
              "      <td>1</td>\n",
              "      <td>my xxunk page it still says boston . xxbos xxmaj umma my life and vava umma love you lot dear xxbos xxmaj thanks a lot for your xxunk on my birthday . xxmaj thanks you for making my birthday truly xxunk . xxbos xxmaj aight , i 'll hit you up when i get some cash xxbos i know ! xxmaj xxunk old people . xxmaj my mom was like</td>\n",
              "    </tr>\n",
              "    <tr>\n",
              "      <td>2</td>\n",
              "      <td>&gt; or xxunk the bill xxbos xxmaj both :) i shoot big loads so get ready ! xxbos xxmaj what 's up xxunk , hope you had a great break . xxmaj do have a xxunk semester . xxbos xxmaj home so we can always chat xxbos xxmaj xxunk well . xxbos xxmaj yup ... xxmaj how ì _ noe leh ... xxbos xxmaj sounds great ! xxmaj are you</td>\n",
              "    </tr>\n",
              "    <tr>\n",
              "      <td>3</td>\n",
              "      <td>&amp; i m still waitin 4 1 . xxmaj pete x xxbos xxmaj that would be great . xxmaj we 'll be at the xxmaj xxunk . xxmaj could meet on xxmaj xxunk road or somewhere - will get in touch over weekend . xxmaj our plans take xxunk ! xxmaj have a good week xxbos xxmaj no problem . xxmaj how are you doing ? xxbos xxmaj hi xxunk</td>\n",
              "    </tr>\n",
              "    <tr>\n",
              "      <td>4</td>\n",
              "      <td>ldn xxup wc1n3xx xxbos xxmaj you available now ? i 'm like right around xxunk &amp; &amp; &lt; # &gt; th xxbos xxmaj the message sent is askin for &lt; # &gt; dollars . xxmaj xxunk i pay &lt; # &gt; or &lt; # &gt; ? xxbos xxmaj how long does xxunk fucking take xxbos xxmaj hi hope u get this txt xxunk journey has nt been gd , now</td>\n",
              "    </tr>\n",
              "  </tbody>\n",
              "</table>"
            ],
            "text/plain": [
              "<IPython.core.display.HTML object>"
            ]
          },
          "metadata": {
            "tags": []
          }
        }
      ]
    },
    {
      "cell_type": "markdown",
      "metadata": {
        "id": "GTI1f01yhgM2",
        "colab_type": "text"
      },
      "source": [
        "As we see in `data_lm.show_batch()`, fastAI did some text preprocessing, for example lowercasing, splitting into tokens, replacing rare tokens with `xxunk`, etc."
      ]
    },
    {
      "cell_type": "code",
      "metadata": {
        "id": "Mz8NbeJF9Nlp",
        "colab_type": "code",
        "outputId": "3b1f84f9-a8a8-4f07-e254-66b1d77103ca",
        "colab": {
          "base_uri": "https://localhost:8080/",
          "height": 34
        }
      },
      "source": [
        "# create a LM learner based on the pretrained AWD_LSTM (trained on Wikitext-103)\n",
        "learn = language_model_learner(data_lm, AWD_LSTM, drop_mult=0.3)"
      ],
      "execution_count": 0,
      "outputs": [
        {
          "output_type": "stream",
          "text": [
            "Downloading https://s3.amazonaws.com/fast-ai-modelzoo/wt103-fwd\n"
          ],
          "name": "stdout"
        },
        {
          "output_type": "display_data",
          "data": {
            "text/html": [
              ""
            ],
            "text/plain": [
              "<IPython.core.display.HTML object>"
            ]
          },
          "metadata": {
            "tags": []
          }
        }
      ]
    },
    {
      "cell_type": "code",
      "metadata": {
        "id": "y4h-ZwMW9Nlv",
        "colab_type": "code",
        "outputId": "cbc0531b-365d-4818-ced7-92b4018a7552",
        "colab": {
          "base_uri": "https://localhost:8080/",
          "height": 467
        }
      },
      "source": [
        "# find suitable learning rate\n",
        "learn.lr_find()\n",
        "learn.recorder.plot(skip_end=15)"
      ],
      "execution_count": 0,
      "outputs": [
        {
          "output_type": "display_data",
          "data": {
            "text/html": [
              "\n",
              "    <div>\n",
              "        <style>\n",
              "            /* Turns off some styling */\n",
              "            progress {\n",
              "                /* gets rid of default border in Firefox and Opera. */\n",
              "                border: none;\n",
              "                /* Needs to be in here for Safari polyfill so background images work as expected. */\n",
              "                background-size: auto;\n",
              "            }\n",
              "            .progress-bar-interrupted, .progress-bar-interrupted::-webkit-progress-bar {\n",
              "                background: #F44336;\n",
              "            }\n",
              "        </style>\n",
              "      <progress value='3' class='' max='4' style='width:300px; height:20px; vertical-align: middle;'></progress>\n",
              "      75.00% [3/4 00:09<00:03]\n",
              "    </div>\n",
              "    \n",
              "<table border=\"1\" class=\"dataframe\">\n",
              "  <thead>\n",
              "    <tr style=\"text-align: left;\">\n",
              "      <th>epoch</th>\n",
              "      <th>train_loss</th>\n",
              "      <th>valid_loss</th>\n",
              "      <th>accuracy</th>\n",
              "      <th>time</th>\n",
              "    </tr>\n",
              "  </thead>\n",
              "  <tbody>\n",
              "    <tr>\n",
              "      <td>0</td>\n",
              "      <td>5.840819</td>\n",
              "      <td>#na#</td>\n",
              "      <td>00:03</td>\n",
              "    </tr>\n",
              "    <tr>\n",
              "      <td>1</td>\n",
              "      <td>5.729482</td>\n",
              "      <td>#na#</td>\n",
              "      <td>00:03</td>\n",
              "    </tr>\n",
              "    <tr>\n",
              "      <td>2</td>\n",
              "      <td>5.903398</td>\n",
              "      <td>#na#</td>\n",
              "      <td>00:03</td>\n",
              "    </tr>\n",
              "  </tbody>\n",
              "</table><p>\n",
              "\n",
              "    <div>\n",
              "        <style>\n",
              "            /* Turns off some styling */\n",
              "            progress {\n",
              "                /* gets rid of default border in Firefox and Opera. */\n",
              "                border: none;\n",
              "                /* Needs to be in here for Safari polyfill so background images work as expected. */\n",
              "                background-size: auto;\n",
              "            }\n",
              "            .progress-bar-interrupted, .progress-bar-interrupted::-webkit-progress-bar {\n",
              "                background: #F44336;\n",
              "            }\n",
              "        </style>\n",
              "      <progress value='6' class='' max='31' style='width:300px; height:20px; vertical-align: middle;'></progress>\n",
              "      19.35% [6/31 00:00<00:02 9.0640]\n",
              "    </div>\n",
              "    "
            ],
            "text/plain": [
              "<IPython.core.display.HTML object>"
            ]
          },
          "metadata": {
            "tags": []
          }
        },
        {
          "output_type": "stream",
          "text": [
            "LR Finder is complete, type {learner_name}.recorder.plot() to see the graph.\n"
          ],
          "name": "stdout"
        },
        {
          "output_type": "display_data",
          "data": {
            "image/png": "[encoded data removed]",
            "text/plain": [
              "<Figure size 432x288 with 1 Axes>"
            ]
          },
          "metadata": {
            "tags": [],
            "needs_background": "light"
          }
        }
      ]
    },
    {
      "cell_type": "code",
      "metadata": {
        "id": "dMcIdVSB9Nl2",
        "colab_type": "code",
        "outputId": "958d78f6-627b-4b3a-e932-44e42cda0203",
        "colab": {
          "base_uri": "https://localhost:8080/",
          "height": 110
        }
      },
      "source": [
        "learn.fit_one_cycle(2, 5e-2, moms=(0.8,0.7))"
      ],
      "execution_count": 0,
      "outputs": [
        {
          "output_type": "display_data",
          "data": {
            "text/html": [
              "<table border=\"1\" class=\"dataframe\">\n",
              "  <thead>\n",
              "    <tr style=\"text-align: left;\">\n",
              "      <th>epoch</th>\n",
              "      <th>train_loss</th>\n",
              "      <th>valid_loss</th>\n",
              "      <th>accuracy</th>\n",
              "      <th>time</th>\n",
              "    </tr>\n",
              "  </thead>\n",
              "  <tbody>\n",
              "    <tr>\n",
              "      <td>0</td>\n",
              "      <td>4.637009</td>\n",
              "      <td>3.931929</td>\n",
              "      <td>0.272321</td>\n",
              "      <td>00:03</td>\n",
              "    </tr>\n",
              "    <tr>\n",
              "      <td>1</td>\n",
              "      <td>3.993435</td>\n",
              "      <td>3.721095</td>\n",
              "      <td>0.297024</td>\n",
              "      <td>00:03</td>\n",
              "    </tr>\n",
              "  </tbody>\n",
              "</table>"
            ],
            "text/plain": [
              "<IPython.core.display.HTML object>"
            ]
          },
          "metadata": {
            "tags": []
          }
        }
      ]
    },
    {
      "cell_type": "code",
      "metadata": {
        "id": "XlnTncAZ9Nl6",
        "colab_type": "code",
        "colab": {}
      },
      "source": [
        "learn.save('fit_head')"
      ],
      "execution_count": 0,
      "outputs": []
    },
    {
      "cell_type": "code",
      "metadata": {
        "id": "MR3jDt099Nl-",
        "colab_type": "code",
        "colab": {}
      },
      "source": [
        "learn.load('fit_head');"
      ],
      "execution_count": 0,
      "outputs": []
    },
    {
      "cell_type": "markdown",
      "metadata": {
        "id": "uoNV8v6z9NmB",
        "colab_type": "text"
      },
      "source": [
        "To complete the fine-tuning, we can then unfeeze all layers and launch a new training."
      ]
    },
    {
      "cell_type": "code",
      "metadata": {
        "id": "9B02d6SI9NmC",
        "colab_type": "code",
        "colab": {}
      },
      "source": [
        "learn.unfreeze()"
      ],
      "execution_count": 0,
      "outputs": []
    },
    {
      "cell_type": "code",
      "metadata": {
        "id": "5k09Tpk-BC_e",
        "colab_type": "code",
        "outputId": "9ad33001-10e9-450f-d467-494fd2e4dda9",
        "colab": {
          "base_uri": "https://localhost:8080/",
          "height": 467
        }
      },
      "source": [
        "learn.lr_find()\n",
        "learn.recorder.plot()\n"
      ],
      "execution_count": 0,
      "outputs": [
        {
          "output_type": "display_data",
          "data": {
            "text/html": [
              "\n",
              "    <div>\n",
              "        <style>\n",
              "            /* Turns off some styling */\n",
              "            progress {\n",
              "                /* gets rid of default border in Firefox and Opera. */\n",
              "                border: none;\n",
              "                /* Needs to be in here for Safari polyfill so background images work as expected. */\n",
              "                background-size: auto;\n",
              "            }\n",
              "            .progress-bar-interrupted, .progress-bar-interrupted::-webkit-progress-bar {\n",
              "                background: #F44336;\n",
              "            }\n",
              "        </style>\n",
              "      <progress value='3' class='' max='4' style='width:300px; height:20px; vertical-align: middle;'></progress>\n",
              "      75.00% [3/4 00:09<00:03]\n",
              "    </div>\n",
              "    \n",
              "<table border=\"1\" class=\"dataframe\">\n",
              "  <thead>\n",
              "    <tr style=\"text-align: left;\">\n",
              "      <th>epoch</th>\n",
              "      <th>train_loss</th>\n",
              "      <th>valid_loss</th>\n",
              "      <th>accuracy</th>\n",
              "      <th>time</th>\n",
              "    </tr>\n",
              "  </thead>\n",
              "  <tbody>\n",
              "    <tr>\n",
              "      <td>0</td>\n",
              "      <td>3.343624</td>\n",
              "      <td>#na#</td>\n",
              "      <td>00:03</td>\n",
              "    </tr>\n",
              "    <tr>\n",
              "      <td>1</td>\n",
              "      <td>3.308857</td>\n",
              "      <td>#na#</td>\n",
              "      <td>00:03</td>\n",
              "    </tr>\n",
              "    <tr>\n",
              "      <td>2</td>\n",
              "      <td>4.472449</td>\n",
              "      <td>#na#</td>\n",
              "      <td>00:03</td>\n",
              "    </tr>\n",
              "  </tbody>\n",
              "</table><p>\n",
              "\n",
              "    <div>\n",
              "        <style>\n",
              "            /* Turns off some styling */\n",
              "            progress {\n",
              "                /* gets rid of default border in Firefox and Opera. */\n",
              "                border: none;\n",
              "                /* Needs to be in here for Safari polyfill so background images work as expected. */\n",
              "                background-size: auto;\n",
              "            }\n",
              "            .progress-bar-interrupted, .progress-bar-interrupted::-webkit-progress-bar {\n",
              "                background: #F44336;\n",
              "            }\n",
              "        </style>\n",
              "      <progress value='6' class='' max='31' style='width:300px; height:20px; vertical-align: middle;'></progress>\n",
              "      19.35% [6/31 00:00<00:02 5.7907]\n",
              "    </div>\n",
              "    "
            ],
            "text/plain": [
              "<IPython.core.display.HTML object>"
            ]
          },
          "metadata": {
            "tags": []
          }
        },
        {
          "output_type": "stream",
          "text": [
            "LR Finder is complete, type {learner_name}.recorder.plot() to see the graph.\n"
          ],
          "name": "stdout"
        },
        {
          "output_type": "display_data",
          "data": {
            "image/png": "[encoded data removed]",
            "text/plain": [
              "<Figure size 432x288 with 1 Axes>"
            ]
          },
          "metadata": {
            "tags": [],
            "needs_background": "light"
          }
        }
      ]
    },
    {
      "cell_type": "code",
      "metadata": {
        "id": "fSpMgN4V9NmG",
        "colab_type": "code",
        "outputId": "1bf86231-3697-4dfe-da68-fd96bf5022ea",
        "colab": {
          "base_uri": "https://localhost:8080/",
          "height": 203
        }
      },
      "source": [
        "learn.fit_one_cycle(5, 3e-3, moms=(0.8,0.7))"
      ],
      "execution_count": 0,
      "outputs": [
        {
          "output_type": "display_data",
          "data": {
            "text/html": [
              "<table border=\"1\" class=\"dataframe\">\n",
              "  <thead>\n",
              "    <tr style=\"text-align: left;\">\n",
              "      <th>epoch</th>\n",
              "      <th>train_loss</th>\n",
              "      <th>valid_loss</th>\n",
              "      <th>accuracy</th>\n",
              "      <th>time</th>\n",
              "    </tr>\n",
              "  </thead>\n",
              "  <tbody>\n",
              "    <tr>\n",
              "      <td>0</td>\n",
              "      <td>3.296569</td>\n",
              "      <td>3.637670</td>\n",
              "      <td>0.311905</td>\n",
              "      <td>00:03</td>\n",
              "    </tr>\n",
              "    <tr>\n",
              "      <td>1</td>\n",
              "      <td>3.173525</td>\n",
              "      <td>3.560798</td>\n",
              "      <td>0.327827</td>\n",
              "      <td>00:03</td>\n",
              "    </tr>\n",
              "    <tr>\n",
              "      <td>2</td>\n",
              "      <td>2.896926</td>\n",
              "      <td>3.577863</td>\n",
              "      <td>0.331101</td>\n",
              "      <td>00:03</td>\n",
              "    </tr>\n",
              "    <tr>\n",
              "      <td>3</td>\n",
              "      <td>2.560524</td>\n",
              "      <td>3.651957</td>\n",
              "      <td>0.335640</td>\n",
              "      <td>00:03</td>\n",
              "    </tr>\n",
              "    <tr>\n",
              "      <td>4</td>\n",
              "      <td>2.243478</td>\n",
              "      <td>3.727463</td>\n",
              "      <td>0.335938</td>\n",
              "      <td>00:03</td>\n",
              "    </tr>\n",
              "  </tbody>\n",
              "</table>"
            ],
            "text/plain": [
              "<IPython.core.display.HTML object>"
            ]
          },
          "metadata": {
            "tags": []
          }
        }
      ]
    },
    {
      "cell_type": "code",
      "metadata": {
        "id": "oKFC_bn59NmK",
        "colab_type": "code",
        "colab": {}
      },
      "source": [
        "learn.save('fine_tuned')"
      ],
      "execution_count": 0,
      "outputs": []
    },
    {
      "cell_type": "markdown",
      "metadata": {
        "id": "Zb7UWpPUi2yF",
        "colab_type": "text"
      },
      "source": [
        "Ok, the model predicts the next word correctly in 33.5% of cases, that's nice."
      ]
    },
    {
      "cell_type": "markdown",
      "metadata": {
        "id": "R8csQGlH9NmO",
        "colab_type": "text"
      },
      "source": [
        "How good is our model? Well let's try to see what it predicts after a few given words."
      ]
    },
    {
      "cell_type": "code",
      "metadata": {
        "id": "PF1C2onk9NmP",
        "colab_type": "code",
        "colab": {}
      },
      "source": [
        "learn.load('fine_tuned');"
      ],
      "execution_count": 0,
      "outputs": []
    },
    {
      "cell_type": "code",
      "metadata": {
        "id": "mjS_1B3F9NmS",
        "colab_type": "code",
        "colab": {}
      },
      "source": [
        "TEXT = \"Buy some\"\n",
        "N_WORDS = 40\n",
        "N_SENTENCES = 2"
      ],
      "execution_count": 0,
      "outputs": []
    },
    {
      "cell_type": "code",
      "metadata": {
        "id": "OsN01nVG9NmW",
        "colab_type": "code",
        "outputId": "b0d59412-0e85-4293-9737-1b082edd2064",
        "colab": {
          "base_uri": "https://localhost:8080/",
          "height": 51
        }
      },
      "source": [
        "print(\"\\n\".join(learn.predict(TEXT, N_WORDS, temperature=0.75) for _ in range(N_SENTENCES)))"
      ],
      "execution_count": 0,
      "outputs": [
        {
          "output_type": "stream",
          "text": [
            "Buy some food . You would have to send them a note that says we could meet at some point before < TIME > . xxbos Alex says he 'll be in the same boat . When he\n",
            "Buy some food mum called buy for ? Buy one egg for me later . Call me xxbos Went fast asleep care .. xxbos Wat time are ur doing ? xxbos That 's The Car\n"
          ],
          "name": "stdout"
        }
      ]
    },
    {
      "cell_type": "markdown",
      "metadata": {
        "id": "7zJWVZx39Nmc",
        "colab_type": "text"
      },
      "source": [
        "We have to save not only the model, but also its encoder, the part that's responsible for creating and updating the hidden state. For the next part, we don't care about the part that tries to guess the next word."
      ]
    },
    {
      "cell_type": "code",
      "metadata": {
        "id": "cCcmynza9Nmd",
        "colab_type": "code",
        "colab": {}
      },
      "source": [
        "learn.save_encoder('fine_tuned_enc')"
      ],
      "execution_count": 0,
      "outputs": []
    },
    {
      "cell_type": "markdown",
      "metadata": {
        "id": "xnSsER_F9Nmh",
        "colab_type": "text"
      },
      "source": [
        "## (c) Classifier"
      ]
    },
    {
      "cell_type": "markdown",
      "metadata": {
        "id": "T04mG1Um9Nmi",
        "colab_type": "text"
      },
      "source": [
        "Now, we'll create a new data object that only grabs the labelled data and keeps those labels. Again, this line takes a bit of time."
      ]
    },
    {
      "cell_type": "code",
      "metadata": {
        "id": "2bTWDp-49Nml",
        "colab_type": "code",
        "outputId": "f8ec22e0-c380-49d0-9e5c-3a9c413009a5",
        "colab": {
          "base_uri": "https://localhost:8080/",
          "height": 17
        }
      },
      "source": [
        "# when creating the classifier databunch, it's important to use the same vocab as in the LM\n",
        "# that's why we need \"vocab=data_lm.vocab\"\n",
        "\n",
        "data_clas = (TextList.from_csv('.', 'spam_final.csv', cols='text', vocab=data_lm.vocab)\n",
        "                .split_by_rand_pct(0.2, seed=42) # train/val splitting\n",
        "                .label_from_df(cols=1) # label with column 1 ('label')\n",
        "                .databunch(bs=bs))\n",
        "\n",
        "data_clas.save('data_clas.pkl')"
      ],
      "execution_count": 0,
      "outputs": [
        {
          "output_type": "display_data",
          "data": {
            "text/html": [
              ""
            ],
            "text/plain": [
              "<IPython.core.display.HTML object>"
            ]
          },
          "metadata": {
            "tags": []
          }
        },
        {
          "output_type": "display_data",
          "data": {
            "text/html": [
              ""
            ],
            "text/plain": [
              "<IPython.core.display.HTML object>"
            ]
          },
          "metadata": {
            "tags": []
          }
        }
      ]
    },
    {
      "cell_type": "code",
      "metadata": {
        "id": "KMCNZIHF9Nmo",
        "colab_type": "code",
        "colab": {}
      },
      "source": [
        "data_clas = load_data(\".\", 'data_clas.pkl', bs=bs)"
      ],
      "execution_count": 0,
      "outputs": []
    },
    {
      "cell_type": "code",
      "metadata": {
        "id": "kD7KXHQp9Nmr",
        "colab_type": "code",
        "outputId": "a50fe798-ffe7-4e08-8cc0-78f538ae704e",
        "colab": {
          "base_uri": "https://localhost:8080/",
          "height": 289
        }
      },
      "source": [
        "data_clas.show_batch()\n",
        "# we can see that we now have the text, and the target (labels) .. looks fine!"
      ],
      "execution_count": 0,
      "outputs": [
        {
          "output_type": "display_data",
          "data": {
            "text/html": [
              "<table border=\"1\" class=\"dataframe\">\n",
              "  <thead>\n",
              "    <tr style=\"text-align: right;\">\n",
              "      <th>text</th>\n",
              "      <th>target</th>\n",
              "    </tr>\n",
              "  </thead>\n",
              "  <tbody>\n",
              "    <tr>\n",
              "      <td>xxbos xxmaj the last thing i ever wanted to do was hurt you . xxmaj and i did n't think it would have . xxmaj you 'd laugh , be embarassed , xxunk the xxunk and keep going . xxmaj but as far as i knew , it was n't even up . xxmaj the fact that you even felt like i would do it to hurt you shows you</td>\n",
              "      <td>ham</td>\n",
              "    </tr>\n",
              "    <tr>\n",
              "      <td>xxbos xxmaj sad story of a xxmaj man - xxmaj last week was my b'day . xxmaj my xxmaj wife xxunk wish me . xxmaj my xxmaj parents forgot n so did my xxmaj kids . i went to work . xxmaj even my xxmaj colleagues did not wish . xxmaj as i entered my xxunk my xxup pa said , '' xxmaj happy xxmaj b'day xxmaj boss ! !</td>\n",
              "      <td>ham</td>\n",
              "    </tr>\n",
              "    <tr>\n",
              "      <td>xxbos xxmaj for me the love should start with xxunk should feel that i need her every time around xxunk should be the first thing which comes in my xxunk . i would start the day and end it with xxunk should be there every time i xxunk will be then when my every xxunk has her xxunk life should happen around xxunk life will be xxunk to her .</td>\n",
              "      <td>ham</td>\n",
              "    </tr>\n",
              "    <tr>\n",
              "      <td>xxbos xxmaj how to xxmaj make a girl xxmaj happy ? xxmaj it 's not at all difficult to make girls happy . u only need to be ... 1 . a friend 2 . xxmaj xxunk 3 . xxmaj lover 4 . xxmaj xxunk . . . &lt; # &gt; . xxmaj good xxunk &lt; # &gt; . xxmaj xxunk &lt; # &gt; . xxmaj good xxunk &lt; #</td>\n",
              "      <td>ham</td>\n",
              "    </tr>\n",
              "    <tr>\n",
              "      <td>xxbos xxmaj indians r poor but xxmaj india is not a poor country . xxmaj says one of the xxunk bank xxunk . xxmaj he says that \\ &lt; # &gt; xxunk xxunk \" of xxmaj indian money is xxunk in xxunk banks which can be used for ' xxunk ' budget for &lt; # &gt; yrs . xxmaj can give &lt; # &gt; xxunk xxunk to all xxmaj indians</td>\n",
              "      <td>ham</td>\n",
              "    </tr>\n",
              "  </tbody>\n",
              "</table>"
            ],
            "text/plain": [
              "<IPython.core.display.HTML object>"
            ]
          },
          "metadata": {
            "tags": []
          }
        }
      ]
    },
    {
      "cell_type": "markdown",
      "metadata": {
        "id": "QQq9cOnV9Nmt",
        "colab_type": "text"
      },
      "source": [
        "We can then create a model to classify those reviews and load the encoder we saved before."
      ]
    },
    {
      "cell_type": "code",
      "metadata": {
        "id": "C0Y-gU2I9Nmu",
        "colab_type": "code",
        "outputId": "26536545-1101-48b2-da4e-9ac2f6a89626",
        "colab": {
          "base_uri": "https://localhost:8080/",
          "height": 1000
        }
      },
      "source": [
        "learn = text_classifier_learner(data_clas, AWD_LSTM, drop_mult=0.5)\n",
        "learn.load_encoder('fine_tuned_enc') # load our fine-tuned LM encoder!"
      ],
      "execution_count": 0,
      "outputs": [
        {
          "output_type": "execute_result",
          "data": {
            "text/plain": [
              "RNNLearner(data=TextClasDataBunch;\n",
              "\n",
              "Train: LabelList (4136 items)\n",
              "x: TextList\n",
              "xxbos xxmaj go until xxunk point , crazy .. xxmaj available only in bugis n great world la e xxunk ... xxmaj cine there got xxunk wat ...,xxbos xxmaj ok lar ... xxmaj joking wif u oni ...,xxbos xxmaj free entry in 2 a wkly comp to win xxup xxunk xxmaj cup final xxunk xxunk xxmaj may xxunk . xxmaj text xxup xxunk to xxunk to receive entry xxunk txt xxunk 's apply xxunk 's,xxbos u dun say so early xxunk ... u c already then say ...,xxbos xxmaj nah i do n't think he goes to usf , he lives around here though\n",
              "y: CategoryList\n",
              "ham,ham,spam,ham,ham\n",
              "Path: .;\n",
              "\n",
              "Valid: LabelList (1033 items)\n",
              "x: TextList\n",
              "xxbos xxmaj did u download the xxunk app ?,xxbos xxmaj pass dis to all ur xxunk n see wat u get ! xxmaj xxunk in luv wid u. xxmaj xxunk put a smile on my face . xxmaj xxunk r realy hot . xxmaj xxunk r so swt . xxmaj xxunk thnk i xxunk u. xxmaj xxunk realy wana go out wid u. xxmaj xxunk xxunk u xxunk . xxmaj xxunk xxunk of u. xxmaj xxunk miss you xxmaj nw plz xxunk me one xxunk,xxbos xxmaj ok ...,xxbos xxmaj am in film ill call you later .,xxbos xxmaj sorry , left phone xxunk . xxup ok , might be xxunk but would be all my birds with one xxunk xxunk . xxmaj it 's a date .\n",
              "y: CategoryList\n",
              "ham,ham,ham,ham,ham\n",
              "Path: .;\n",
              "\n",
              "Test: None, model=SequentialRNN(\n",
              "  (0): MultiBatchEncoder(\n",
              "    (module): AWD_LSTM(\n",
              "      (encoder): Embedding(2512, 400, padding_idx=1)\n",
              "      (encoder_dp): EmbeddingDropout(\n",
              "        (emb): Embedding(2512, 400, padding_idx=1)\n",
              "      )\n",
              "      (rnns): ModuleList(\n",
              "        (0): WeightDropout(\n",
              "          (module): LSTM(400, 1152, batch_first=True)\n",
              "        )\n",
              "        (1): WeightDropout(\n",
              "          (module): LSTM(1152, 1152, batch_first=True)\n",
              "        )\n",
              "        (2): WeightDropout(\n",
              "          (module): LSTM(1152, 400, batch_first=True)\n",
              "        )\n",
              "      )\n",
              "      (input_dp): RNNDropout()\n",
              "      (hidden_dps): ModuleList(\n",
              "        (0): RNNDropout()\n",
              "        (1): RNNDropout()\n",
              "        (2): RNNDropout()\n",
              "      )\n",
              "    )\n",
              "  )\n",
              "  (1): PoolingLinearClassifier(\n",
              "    (layers): Sequential(\n",
              "      (0): BatchNorm1d(1200, eps=1e-05, momentum=0.1, affine=True, track_running_stats=True)\n",
              "      (1): Dropout(p=0.2, inplace=False)\n",
              "      (2): Linear(in_features=1200, out_features=50, bias=True)\n",
              "      (3): ReLU(inplace=True)\n",
              "      (4): BatchNorm1d(50, eps=1e-05, momentum=0.1, affine=True, track_running_stats=True)\n",
              "      (5): Dropout(p=0.1, inplace=False)\n",
              "      (6): Linear(in_features=50, out_features=2, bias=True)\n",
              "    )\n",
              "  )\n",
              "), opt_func=functools.partial(<class 'torch.optim.adam.Adam'>, betas=(0.9, 0.99)), loss_func=FlattenedLoss of CrossEntropyLoss(), metrics=[<function accuracy at 0x7f479881d598>], true_wd=True, bn_wd=True, wd=0.01, train_bn=True, path=PosixPath('.'), model_dir='models', callback_fns=[functools.partial(<class 'fastai.basic_train.Recorder'>, add_time=True, silent=False)], callbacks=[RNNTrainer\n",
              "learn: RNNLearner(data=TextClasDataBunch;\n",
              "\n",
              "Train: LabelList (4136 items)\n",
              "x: TextList\n",
              "xxbos xxmaj go until xxunk point , crazy .. xxmaj available only in bugis n great world la e xxunk ... xxmaj cine there got xxunk wat ...,xxbos xxmaj ok lar ... xxmaj joking wif u oni ...,xxbos xxmaj free entry in 2 a wkly comp to win xxup xxunk xxmaj cup final xxunk xxunk xxmaj may xxunk . xxmaj text xxup xxunk to xxunk to receive entry xxunk txt xxunk 's apply xxunk 's,xxbos u dun say so early xxunk ... u c already then say ...,xxbos xxmaj nah i do n't think he goes to usf , he lives around here though\n",
              "y: CategoryList\n",
              "ham,ham,spam,ham,ham\n",
              "Path: .;\n",
              "\n",
              "Valid: LabelList (1033 items)\n",
              "x: TextList\n",
              "xxbos xxmaj did u download the xxunk app ?,xxbos xxmaj pass dis to all ur xxunk n see wat u get ! xxmaj xxunk in luv wid u. xxmaj xxunk put a smile on my face . xxmaj xxunk r realy hot . xxmaj xxunk r so swt . xxmaj xxunk thnk i xxunk u. xxmaj xxunk realy wana go out wid u. xxmaj xxunk xxunk u xxunk . xxmaj xxunk xxunk of u. xxmaj xxunk miss you xxmaj nw plz xxunk me one xxunk,xxbos xxmaj ok ...,xxbos xxmaj am in film ill call you later .,xxbos xxmaj sorry , left phone xxunk . xxup ok , might be xxunk but would be all my birds with one xxunk xxunk . xxmaj it 's a date .\n",
              "y: CategoryList\n",
              "ham,ham,ham,ham,ham\n",
              "Path: .;\n",
              "\n",
              "Test: None, model=SequentialRNN(\n",
              "  (0): MultiBatchEncoder(\n",
              "    (module): AWD_LSTM(\n",
              "      (encoder): Embedding(2512, 400, padding_idx=1)\n",
              "      (encoder_dp): EmbeddingDropout(\n",
              "        (emb): Embedding(2512, 400, padding_idx=1)\n",
              "      )\n",
              "      (rnns): ModuleList(\n",
              "        (0): WeightDropout(\n",
              "          (module): LSTM(400, 1152, batch_first=True)\n",
              "        )\n",
              "        (1): WeightDropout(\n",
              "          (module): LSTM(1152, 1152, batch_first=True)\n",
              "        )\n",
              "        (2): WeightDropout(\n",
              "          (module): LSTM(1152, 400, batch_first=True)\n",
              "        )\n",
              "      )\n",
              "      (input_dp): RNNDropout()\n",
              "      (hidden_dps): ModuleList(\n",
              "        (0): RNNDropout()\n",
              "        (1): RNNDropout()\n",
              "        (2): RNNDropout()\n",
              "      )\n",
              "    )\n",
              "  )\n",
              "  (1): PoolingLinearClassifier(\n",
              "    (layers): Sequential(\n",
              "      (0): BatchNorm1d(1200, eps=1e-05, momentum=0.1, affine=True, track_running_stats=True)\n",
              "      (1): Dropout(p=0.2, inplace=False)\n",
              "      (2): Linear(in_features=1200, out_features=50, bias=True)\n",
              "      (3): ReLU(inplace=True)\n",
              "      (4): BatchNorm1d(50, eps=1e-05, momentum=0.1, affine=True, track_running_stats=True)\n",
              "      (5): Dropout(p=0.1, inplace=False)\n",
              "      (6): Linear(in_features=50, out_features=2, bias=True)\n",
              "    )\n",
              "  )\n",
              "), opt_func=functools.partial(<class 'torch.optim.adam.Adam'>, betas=(0.9, 0.99)), loss_func=FlattenedLoss of CrossEntropyLoss(), metrics=[<function accuracy at 0x7f479881d598>], true_wd=True, bn_wd=True, wd=0.01, train_bn=True, path=PosixPath('.'), model_dir='models', callback_fns=[functools.partial(<class 'fastai.basic_train.Recorder'>, add_time=True, silent=False)], callbacks=[...], layer_groups=[Sequential(\n",
              "  (0): Embedding(2512, 400, padding_idx=1)\n",
              "  (1): EmbeddingDropout(\n",
              "    (emb): Embedding(2512, 400, padding_idx=1)\n",
              "  )\n",
              "), Sequential(\n",
              "  (0): WeightDropout(\n",
              "    (module): LSTM(400, 1152, batch_first=True)\n",
              "  )\n",
              "  (1): RNNDropout()\n",
              "), Sequential(\n",
              "  (0): WeightDropout(\n",
              "    (module): LSTM(1152, 1152, batch_first=True)\n",
              "  )\n",
              "  (1): RNNDropout()\n",
              "), Sequential(\n",
              "  (0): WeightDropout(\n",
              "    (module): LSTM(1152, 400, batch_first=True)\n",
              "  )\n",
              "  (1): RNNDropout()\n",
              "), Sequential(\n",
              "  (0): PoolingLinearClassifier(\n",
              "    (layers): Sequential(\n",
              "      (0): BatchNorm1d(1200, eps=1e-05, momentum=0.1, affine=True, track_running_stats=True)\n",
              "      (1): Dropout(p=0.2, inplace=False)\n",
              "      (2): Linear(in_features=1200, out_features=50, bias=True)\n",
              "      (3): ReLU(inplace=True)\n",
              "      (4): BatchNorm1d(50, eps=1e-05, momentum=0.1, affine=True, track_running_stats=True)\n",
              "      (5): Dropout(p=0.1, inplace=False)\n",
              "      (6): Linear(in_features=50, out_features=2, bias=True)\n",
              "    )\n",
              "  )\n",
              ")], add_time=True, silent=False)\n",
              "alpha: 2.0\n",
              "beta: 1.0], layer_groups=[Sequential(\n",
              "  (0): Embedding(2512, 400, padding_idx=1)\n",
              "  (1): EmbeddingDropout(\n",
              "    (emb): Embedding(2512, 400, padding_idx=1)\n",
              "  )\n",
              "), Sequential(\n",
              "  (0): WeightDropout(\n",
              "    (module): LSTM(400, 1152, batch_first=True)\n",
              "  )\n",
              "  (1): RNNDropout()\n",
              "), Sequential(\n",
              "  (0): WeightDropout(\n",
              "    (module): LSTM(1152, 1152, batch_first=True)\n",
              "  )\n",
              "  (1): RNNDropout()\n",
              "), Sequential(\n",
              "  (0): WeightDropout(\n",
              "    (module): LSTM(1152, 400, batch_first=True)\n",
              "  )\n",
              "  (1): RNNDropout()\n",
              "), Sequential(\n",
              "  (0): PoolingLinearClassifier(\n",
              "    (layers): Sequential(\n",
              "      (0): BatchNorm1d(1200, eps=1e-05, momentum=0.1, affine=True, track_running_stats=True)\n",
              "      (1): Dropout(p=0.2, inplace=False)\n",
              "      (2): Linear(in_features=1200, out_features=50, bias=True)\n",
              "      (3): ReLU(inplace=True)\n",
              "      (4): BatchNorm1d(50, eps=1e-05, momentum=0.1, affine=True, track_running_stats=True)\n",
              "      (5): Dropout(p=0.1, inplace=False)\n",
              "      (6): Linear(in_features=50, out_features=2, bias=True)\n",
              "    )\n",
              "  )\n",
              ")], add_time=True, silent=False)"
            ]
          },
          "metadata": {
            "tags": []
          },
          "execution_count": 39
        }
      ]
    },
    {
      "cell_type": "markdown",
      "metadata": {
        "id": "lk47JW6ckmLP",
        "colab_type": "text"
      },
      "source": [
        "Look at the output above, we can see the train/val split, the model used (with the encoder and then the classifier, and other things like the loss_function)\n"
      ]
    },
    {
      "cell_type": "code",
      "metadata": {
        "id": "Ajwnxff39Nmy",
        "colab_type": "code",
        "outputId": "f32a5dfe-8d87-4915-a7d4-13cd04829962",
        "colab": {
          "base_uri": "https://localhost:8080/",
          "height": 408
        }
      },
      "source": [
        "learn.lr_find()\n",
        "learn.recorder.plot()"
      ],
      "execution_count": 0,
      "outputs": [
        {
          "output_type": "display_data",
          "data": {
            "text/html": [
              "\n",
              "    <div>\n",
              "        <style>\n",
              "            /* Turns off some styling */\n",
              "            progress {\n",
              "                /* gets rid of default border in Firefox and Opera. */\n",
              "                border: none;\n",
              "                /* Needs to be in here for Safari polyfill so background images work as expected. */\n",
              "                background-size: auto;\n",
              "            }\n",
              "            .progress-bar-interrupted, .progress-bar-interrupted::-webkit-progress-bar {\n",
              "                background: #F44336;\n",
              "            }\n",
              "        </style>\n",
              "      <progress value='1' class='' max='2' style='width:300px; height:20px; vertical-align: middle;'></progress>\n",
              "      50.00% [1/2 00:03<00:03]\n",
              "    </div>\n",
              "    \n",
              "<table border=\"1\" class=\"dataframe\">\n",
              "  <thead>\n",
              "    <tr style=\"text-align: left;\">\n",
              "      <th>epoch</th>\n",
              "      <th>train_loss</th>\n",
              "      <th>valid_loss</th>\n",
              "      <th>accuracy</th>\n",
              "      <th>time</th>\n",
              "    </tr>\n",
              "  </thead>\n",
              "  <tbody>\n",
              "    <tr>\n",
              "      <td>0</td>\n",
              "      <td>0.743727</td>\n",
              "      <td>#na#</td>\n",
              "      <td>00:03</td>\n",
              "    </tr>\n",
              "  </tbody>\n",
              "</table><p>\n",
              "\n",
              "    <div>\n",
              "        <style>\n",
              "            /* Turns off some styling */\n",
              "            progress {\n",
              "                /* gets rid of default border in Firefox and Opera. */\n",
              "                border: none;\n",
              "                /* Needs to be in here for Safari polyfill so background images work as expected. */\n",
              "                background-size: auto;\n",
              "            }\n",
              "            .progress-bar-interrupted, .progress-bar-interrupted::-webkit-progress-bar {\n",
              "                background: #F44336;\n",
              "            }\n",
              "        </style>\n",
              "      <progress value='5' class='' max='86' style='width:300px; height:20px; vertical-align: middle;'></progress>\n",
              "      5.81% [5/86 00:00<00:09 1.6263]\n",
              "    </div>\n",
              "    "
            ],
            "text/plain": [
              "<IPython.core.display.HTML object>"
            ]
          },
          "metadata": {
            "tags": []
          }
        },
        {
          "output_type": "stream",
          "text": [
            "LR Finder is complete, type {learner_name}.recorder.plot() to see the graph.\n"
          ],
          "name": "stdout"
        },
        {
          "output_type": "display_data",
          "data": {
            "image/png": "[encoded data removed]",
            "text/plain": [
              "<Figure size 432x288 with 1 Axes>"
            ]
          },
          "metadata": {
            "tags": [],
            "needs_background": "light"
          }
        }
      ]
    },
    {
      "cell_type": "code",
      "metadata": {
        "id": "aIVeoXs69Nm3",
        "colab_type": "code",
        "outputId": "eb7677e9-d8df-4e73-a73a-9fe9f669a9c1",
        "colab": {
          "base_uri": "https://localhost:8080/",
          "height": 110
        }
      },
      "source": [
        "learn.fit_one_cycle(2, 4e-2, moms=(0.8,0.7))"
      ],
      "execution_count": 0,
      "outputs": [
        {
          "output_type": "display_data",
          "data": {
            "text/html": [
              "<table border=\"1\" class=\"dataframe\">\n",
              "  <thead>\n",
              "    <tr style=\"text-align: left;\">\n",
              "      <th>epoch</th>\n",
              "      <th>train_loss</th>\n",
              "      <th>valid_loss</th>\n",
              "      <th>accuracy</th>\n",
              "      <th>time</th>\n",
              "    </tr>\n",
              "  </thead>\n",
              "  <tbody>\n",
              "    <tr>\n",
              "      <td>0</td>\n",
              "      <td>0.256673</td>\n",
              "      <td>0.097852</td>\n",
              "      <td>0.972894</td>\n",
              "      <td>00:04</td>\n",
              "    </tr>\n",
              "    <tr>\n",
              "      <td>1</td>\n",
              "      <td>0.138447</td>\n",
              "      <td>0.043804</td>\n",
              "      <td>0.984511</td>\n",
              "      <td>00:04</td>\n",
              "    </tr>\n",
              "  </tbody>\n",
              "</table>"
            ],
            "text/plain": [
              "<IPython.core.display.HTML object>"
            ]
          },
          "metadata": {
            "tags": []
          }
        }
      ]
    },
    {
      "cell_type": "code",
      "metadata": {
        "id": "EevvS4cS9Nm6",
        "colab_type": "code",
        "colab": {}
      },
      "source": [
        "learn.save('first')"
      ],
      "execution_count": 0,
      "outputs": []
    },
    {
      "cell_type": "code",
      "metadata": {
        "id": "TZwuJtHt9Nm_",
        "colab_type": "code",
        "colab": {}
      },
      "source": [
        "learn.load('first');"
      ],
      "execution_count": 0,
      "outputs": []
    },
    {
      "cell_type": "markdown",
      "metadata": {
        "id": "XbC_hlXck419",
        "colab_type": "text"
      },
      "source": [
        "After only a bit of training on the freezed model, we already have 98% accuracy. This is a rather simple problem :)\n",
        "Let's try to improve the accuracy even more!"
      ]
    },
    {
      "cell_type": "code",
      "metadata": {
        "id": "hpuJKEd0DR4v",
        "colab_type": "code",
        "outputId": "452a72c7-6f4b-44a9-d790-7cb5aad7a774",
        "colab": {
          "base_uri": "https://localhost:8080/",
          "height": 405
        }
      },
      "source": [
        "learn.freeze_to(-2)\n",
        "\n",
        "learn.lr_find()\n",
        "learn.recorder.plot()"
      ],
      "execution_count": 0,
      "outputs": [
        {
          "output_type": "display_data",
          "data": {
            "text/html": [
              "\n",
              "    <div>\n",
              "        <style>\n",
              "            /* Turns off some styling */\n",
              "            progress {\n",
              "                /* gets rid of default border in Firefox and Opera. */\n",
              "                border: none;\n",
              "                /* Needs to be in here for Safari polyfill so background images work as expected. */\n",
              "                background-size: auto;\n",
              "            }\n",
              "            .progress-bar-interrupted, .progress-bar-interrupted::-webkit-progress-bar {\n",
              "                background: #F44336;\n",
              "            }\n",
              "        </style>\n",
              "      <progress value='1' class='' max='2' style='width:300px; height:20px; vertical-align: middle;'></progress>\n",
              "      50.00% [1/2 00:03<00:03]\n",
              "    </div>\n",
              "    \n",
              "<table border=\"1\" class=\"dataframe\">\n",
              "  <thead>\n",
              "    <tr style=\"text-align: left;\">\n",
              "      <th>epoch</th>\n",
              "      <th>train_loss</th>\n",
              "      <th>valid_loss</th>\n",
              "      <th>accuracy</th>\n",
              "      <th>time</th>\n",
              "    </tr>\n",
              "  </thead>\n",
              "  <tbody>\n",
              "    <tr>\n",
              "      <td>0</td>\n",
              "      <td>0.256424</td>\n",
              "      <td>#na#</td>\n",
              "      <td>00:03</td>\n",
              "    </tr>\n",
              "  </tbody>\n",
              "</table><p>\n",
              "\n",
              "    <div>\n",
              "        <style>\n",
              "            /* Turns off some styling */\n",
              "            progress {\n",
              "                /* gets rid of default border in Firefox and Opera. */\n",
              "                border: none;\n",
              "                /* Needs to be in here for Safari polyfill so background images work as expected. */\n",
              "                background-size: auto;\n",
              "            }\n",
              "            .progress-bar-interrupted, .progress-bar-interrupted::-webkit-progress-bar {\n",
              "                background: #F44336;\n",
              "            }\n",
              "        </style>\n",
              "      <progress value='1' class='' max='86' style='width:300px; height:20px; vertical-align: middle;'></progress>\n",
              "      1.16% [1/86 00:00<00:36 0.2664]\n",
              "    </div>\n",
              "    "
            ],
            "text/plain": [
              "<IPython.core.display.HTML object>"
            ]
          },
          "metadata": {
            "tags": []
          }
        },
        {
          "output_type": "stream",
          "text": [
            "LR Finder is complete, type {learner_name}.recorder.plot() to see the graph.\n"
          ],
          "name": "stdout"
        },
        {
          "output_type": "display_data",
          "data": {
            "image/png": "[encoded data removed]",
            "text/plain": [
              "<Figure size 432x288 with 1 Axes>"
            ]
          },
          "metadata": {
            "tags": [],
            "needs_background": "light"
          }
        }
      ]
    },
    {
      "cell_type": "code",
      "metadata": {
        "id": "4jkLjDuV9NnB",
        "colab_type": "code",
        "outputId": "092d0268-1b1a-46d3-8a1a-155bdb510394",
        "colab": {
          "base_uri": "https://localhost:8080/",
          "height": 79
        }
      },
      "source": [
        "learn.fit_one_cycle(1, slice(2e-3/(2.6**4),2e-3), moms=(0.8,0.7))"
      ],
      "execution_count": 0,
      "outputs": [
        {
          "output_type": "display_data",
          "data": {
            "text/html": [
              "<table border=\"1\" class=\"dataframe\">\n",
              "  <thead>\n",
              "    <tr style=\"text-align: left;\">\n",
              "      <th>epoch</th>\n",
              "      <th>train_loss</th>\n",
              "      <th>valid_loss</th>\n",
              "      <th>accuracy</th>\n",
              "      <th>time</th>\n",
              "    </tr>\n",
              "  </thead>\n",
              "  <tbody>\n",
              "    <tr>\n",
              "      <td>0</td>\n",
              "      <td>0.087103</td>\n",
              "      <td>0.040443</td>\n",
              "      <td>0.988383</td>\n",
              "      <td>00:03</td>\n",
              "    </tr>\n",
              "  </tbody>\n",
              "</table>"
            ],
            "text/plain": [
              "<IPython.core.display.HTML object>"
            ]
          },
          "metadata": {
            "tags": []
          }
        }
      ]
    },
    {
      "cell_type": "code",
      "metadata": {
        "id": "IgymdEEE9NnE",
        "colab_type": "code",
        "colab": {}
      },
      "source": [
        "learn.save('second')"
      ],
      "execution_count": 0,
      "outputs": []
    },
    {
      "cell_type": "code",
      "metadata": {
        "id": "VIbx3Tix9NnG",
        "colab_type": "code",
        "colab": {}
      },
      "source": [
        "learn.load('second');"
      ],
      "execution_count": 0,
      "outputs": []
    },
    {
      "cell_type": "code",
      "metadata": {
        "id": "SAOJt7ttDfLV",
        "colab_type": "code",
        "outputId": "04db0cfb-9f74-4902-fbf9-07697cd4a964",
        "colab": {
          "base_uri": "https://localhost:8080/",
          "height": 374
        }
      },
      "source": [
        "learn.freeze_to(-3)\n",
        "\n",
        "learn.lr_find()\n",
        "learn.recorder.plot()"
      ],
      "execution_count": 0,
      "outputs": [
        {
          "output_type": "display_data",
          "data": {
            "text/html": [
              "\n",
              "    <div>\n",
              "        <style>\n",
              "            /* Turns off some styling */\n",
              "            progress {\n",
              "                /* gets rid of default border in Firefox and Opera. */\n",
              "                border: none;\n",
              "                /* Needs to be in here for Safari polyfill so background images work as expected. */\n",
              "                background-size: auto;\n",
              "            }\n",
              "            .progress-bar-interrupted, .progress-bar-interrupted::-webkit-progress-bar {\n",
              "                background: #F44336;\n",
              "            }\n",
              "        </style>\n",
              "      <progress value='0' class='' max='2' style='width:300px; height:20px; vertical-align: middle;'></progress>\n",
              "      0.00% [0/2 00:00<00:00]\n",
              "    </div>\n",
              "    \n",
              "<table border=\"1\" class=\"dataframe\">\n",
              "  <thead>\n",
              "    <tr style=\"text-align: left;\">\n",
              "      <th>epoch</th>\n",
              "      <th>train_loss</th>\n",
              "      <th>valid_loss</th>\n",
              "      <th>accuracy</th>\n",
              "      <th>time</th>\n",
              "    </tr>\n",
              "  </thead>\n",
              "  <tbody>\n",
              "  </tbody>\n",
              "</table><p>\n",
              "\n",
              "    <div>\n",
              "        <style>\n",
              "            /* Turns off some styling */\n",
              "            progress {\n",
              "                /* gets rid of default border in Firefox and Opera. */\n",
              "                border: none;\n",
              "                /* Needs to be in here for Safari polyfill so background images work as expected. */\n",
              "                background-size: auto;\n",
              "            }\n",
              "            .progress-bar-interrupted, .progress-bar-interrupted::-webkit-progress-bar {\n",
              "                background: #F44336;\n",
              "            }\n",
              "        </style>\n",
              "      <progress value='84' class='' max='86' style='width:300px; height:20px; vertical-align: middle;'></progress>\n",
              "      97.67% [84/86 00:03<00:00 0.1516]\n",
              "    </div>\n",
              "    "
            ],
            "text/plain": [
              "<IPython.core.display.HTML object>"
            ]
          },
          "metadata": {
            "tags": []
          }
        },
        {
          "output_type": "stream",
          "text": [
            "LR Finder is complete, type {learner_name}.recorder.plot() to see the graph.\n"
          ],
          "name": "stdout"
        },
        {
          "output_type": "display_data",
          "data": {
            "image/png": "[encoded data removed]",
            "text/plain": [
              "<Figure size 432x288 with 1 Axes>"
            ]
          },
          "metadata": {
            "tags": [],
            "needs_background": "light"
          }
        }
      ]
    },
    {
      "cell_type": "code",
      "metadata": {
        "id": "fnGH6u-39NnI",
        "colab_type": "code",
        "outputId": "28885d7a-358e-4697-c46b-5146ad3111ec",
        "colab": {
          "base_uri": "https://localhost:8080/",
          "height": 79
        }
      },
      "source": [
        "learn.fit_one_cycle(1, slice(1e-3/(2.6**4),1e-3), moms=(0.8,0.7))"
      ],
      "execution_count": 0,
      "outputs": [
        {
          "output_type": "display_data",
          "data": {
            "text/html": [
              "<table border=\"1\" class=\"dataframe\">\n",
              "  <thead>\n",
              "    <tr style=\"text-align: left;\">\n",
              "      <th>epoch</th>\n",
              "      <th>train_loss</th>\n",
              "      <th>valid_loss</th>\n",
              "      <th>accuracy</th>\n",
              "      <th>time</th>\n",
              "    </tr>\n",
              "  </thead>\n",
              "  <tbody>\n",
              "    <tr>\n",
              "      <td>0</td>\n",
              "      <td>0.071875</td>\n",
              "      <td>0.039100</td>\n",
              "      <td>0.983543</td>\n",
              "      <td>00:04</td>\n",
              "    </tr>\n",
              "  </tbody>\n",
              "</table>"
            ],
            "text/plain": [
              "<IPython.core.display.HTML object>"
            ]
          },
          "metadata": {
            "tags": []
          }
        }
      ]
    },
    {
      "cell_type": "code",
      "metadata": {
        "id": "Ni9tBHwF9NnM",
        "colab_type": "code",
        "colab": {}
      },
      "source": [
        "learn.save('third')"
      ],
      "execution_count": 0,
      "outputs": []
    },
    {
      "cell_type": "code",
      "metadata": {
        "id": "4jOMYNAI9NnT",
        "colab_type": "code",
        "colab": {}
      },
      "source": [
        "learn.load('third');"
      ],
      "execution_count": 0,
      "outputs": []
    },
    {
      "cell_type": "code",
      "metadata": {
        "id": "iF1KBQfjDnx1",
        "colab_type": "code",
        "outputId": "6ceb163b-0d37-4ebc-f33e-2aa927c00852",
        "colab": {
          "base_uri": "https://localhost:8080/",
          "height": 374
        }
      },
      "source": [
        "learn.unfreeze()\n",
        "\n",
        "learn.lr_find()\n",
        "learn.recorder.plot()"
      ],
      "execution_count": 0,
      "outputs": [
        {
          "output_type": "display_data",
          "data": {
            "text/html": [
              "\n",
              "    <div>\n",
              "        <style>\n",
              "            /* Turns off some styling */\n",
              "            progress {\n",
              "                /* gets rid of default border in Firefox and Opera. */\n",
              "                border: none;\n",
              "                /* Needs to be in here for Safari polyfill so background images work as expected. */\n",
              "                background-size: auto;\n",
              "            }\n",
              "            .progress-bar-interrupted, .progress-bar-interrupted::-webkit-progress-bar {\n",
              "                background: #F44336;\n",
              "            }\n",
              "        </style>\n",
              "      <progress value='0' class='' max='2' style='width:300px; height:20px; vertical-align: middle;'></progress>\n",
              "      0.00% [0/2 00:00<00:00]\n",
              "    </div>\n",
              "    \n",
              "<table border=\"1\" class=\"dataframe\">\n",
              "  <thead>\n",
              "    <tr style=\"text-align: left;\">\n",
              "      <th>epoch</th>\n",
              "      <th>train_loss</th>\n",
              "      <th>valid_loss</th>\n",
              "      <th>accuracy</th>\n",
              "      <th>time</th>\n",
              "    </tr>\n",
              "  </thead>\n",
              "  <tbody>\n",
              "  </tbody>\n",
              "</table><p>\n",
              "\n",
              "    <div>\n",
              "        <style>\n",
              "            /* Turns off some styling */\n",
              "            progress {\n",
              "                /* gets rid of default border in Firefox and Opera. */\n",
              "                border: none;\n",
              "                /* Needs to be in here for Safari polyfill so background images work as expected. */\n",
              "                background-size: auto;\n",
              "            }\n",
              "            .progress-bar-interrupted, .progress-bar-interrupted::-webkit-progress-bar {\n",
              "                background: #F44336;\n",
              "            }\n",
              "        </style>\n",
              "      <progress value='70' class='' max='86' style='width:300px; height:20px; vertical-align: middle;'></progress>\n",
              "      81.40% [70/86 00:03<00:00 0.1615]\n",
              "    </div>\n",
              "    "
            ],
            "text/plain": [
              "<IPython.core.display.HTML object>"
            ]
          },
          "metadata": {
            "tags": []
          }
        },
        {
          "output_type": "stream",
          "text": [
            "LR Finder is complete, type {learner_name}.recorder.plot() to see the graph.\n"
          ],
          "name": "stdout"
        },
        {
          "output_type": "display_data",
          "data": {
            "image/png": "[encoded data removed]",
            "text/plain": [
              "<Figure size 432x288 with 1 Axes>"
            ]
          },
          "metadata": {
            "tags": [],
            "needs_background": "light"
          }
        }
      ]
    },
    {
      "cell_type": "code",
      "metadata": {
        "id": "g7IMcEyq9NnY",
        "colab_type": "code",
        "outputId": "a20c35ad-8687-4149-d8b7-0c1b5f7fe64b",
        "colab": {
          "base_uri": "https://localhost:8080/",
          "height": 203
        }
      },
      "source": [
        "\n",
        "learn.fit_one_cycle(5, slice(5e-4/(2.6**4),5e-4), moms=(0.8,0.7))"
      ],
      "execution_count": 0,
      "outputs": [
        {
          "output_type": "display_data",
          "data": {
            "text/html": [
              "<table border=\"1\" class=\"dataframe\">\n",
              "  <thead>\n",
              "    <tr style=\"text-align: left;\">\n",
              "      <th>epoch</th>\n",
              "      <th>train_loss</th>\n",
              "      <th>valid_loss</th>\n",
              "      <th>accuracy</th>\n",
              "      <th>time</th>\n",
              "    </tr>\n",
              "  </thead>\n",
              "  <tbody>\n",
              "    <tr>\n",
              "      <td>0</td>\n",
              "      <td>0.052509</td>\n",
              "      <td>0.033269</td>\n",
              "      <td>0.988383</td>\n",
              "      <td>00:04</td>\n",
              "    </tr>\n",
              "    <tr>\n",
              "      <td>1</td>\n",
              "      <td>0.051116</td>\n",
              "      <td>0.029535</td>\n",
              "      <td>0.990319</td>\n",
              "      <td>00:04</td>\n",
              "    </tr>\n",
              "    <tr>\n",
              "      <td>2</td>\n",
              "      <td>0.041809</td>\n",
              "      <td>0.030234</td>\n",
              "      <td>0.990319</td>\n",
              "      <td>00:04</td>\n",
              "    </tr>\n",
              "    <tr>\n",
              "      <td>3</td>\n",
              "      <td>0.036781</td>\n",
              "      <td>0.029103</td>\n",
              "      <td>0.992256</td>\n",
              "      <td>00:04</td>\n",
              "    </tr>\n",
              "    <tr>\n",
              "      <td>4</td>\n",
              "      <td>0.031459</td>\n",
              "      <td>0.029175</td>\n",
              "      <td>0.991288</td>\n",
              "      <td>00:04</td>\n",
              "    </tr>\n",
              "  </tbody>\n",
              "</table>"
            ],
            "text/plain": [
              "<IPython.core.display.HTML object>"
            ]
          },
          "metadata": {
            "tags": []
          }
        }
      ]
    },
    {
      "cell_type": "markdown",
      "metadata": {
        "id": "_IkXPAGDmjvF",
        "colab_type": "text"
      },
      "source": [
        "Ok, we are finished training. We are now at 99.1% accuracy. The train_loss is still above valid_loss, so we could definitly train some more!"
      ]
    },
    {
      "cell_type": "markdown",
      "metadata": {
        "id": "hbVkSuYEnlBB",
        "colab_type": "text"
      },
      "source": [
        "# (d) Evaluation of the model\n",
        "Looks have a brief look at things like the confusion matrix, and prediction example and prediction time\n"
      ]
    },
    {
      "cell_type": "markdown",
      "metadata": {
        "id": "sfQfj7wPm3si",
        "colab_type": "text"
      },
      "source": [
        "Let's predict some examples just for testing:\n"
      ]
    },
    {
      "cell_type": "code",
      "metadata": {
        "id": "i_Du3bYWnIQG",
        "colab_type": "code",
        "outputId": "5a4ccdc6-97f8-4a9a-a4fd-6a976fb896ba",
        "colab": {
          "base_uri": "https://localhost:8080/",
          "height": 34
        }
      },
      "source": [
        "learn.predict(\"Free entry in 2 a wkly comp to win FA Cup final.\")\n",
        "# class 0 is ham, class 1 is spam. prediction looks fine"
      ],
      "execution_count": 0,
      "outputs": [
        {
          "output_type": "execute_result",
          "data": {
            "text/plain": [
              "(Category spam, tensor(1), tensor([0.0015, 0.9985]))"
            ]
          },
          "metadata": {
            "tags": []
          },
          "execution_count": 58
        }
      ]
    },
    {
      "cell_type": "code",
      "metadata": {
        "id": "JmKQi7Vi9Nne",
        "colab_type": "code",
        "outputId": "a5bc2216-ad6e-4293-c51a-ad0c8f03deeb",
        "colab": {
          "base_uri": "https://localhost:8080/",
          "height": 34
        }
      },
      "source": [
        "%%timeit\n",
        "learn.predict(\"Free entry in 2 a wkly comp to win FA Cup final.\")\n"
      ],
      "execution_count": 0,
      "outputs": [
        {
          "output_type": "stream",
          "text": [
            "10 loops, best of 3: 145 ms per loop\n"
          ],
          "name": "stdout"
        }
      ]
    },
    {
      "cell_type": "code",
      "metadata": {
        "id": "dLbqruYVU6W1",
        "colab_type": "code",
        "outputId": "7dfec825-73fc-4865-bdff-f5d4babe4008",
        "colab": {
          "base_uri": "https://localhost:8080/",
          "height": 34
        }
      },
      "source": [
        "learn.predict(\"Let's meet tomorrow and discuss the project.\")"
      ],
      "execution_count": 0,
      "outputs": [
        {
          "output_type": "execute_result",
          "data": {
            "text/plain": [
              "(Category ham, tensor(0), tensor([1.0000e+00, 2.1876e-06]))"
            ]
          },
          "metadata": {
            "tags": []
          },
          "execution_count": 62
        }
      ]
    },
    {
      "cell_type": "markdown",
      "metadata": {
        "id": "jRWfPHBRngCx",
        "colab_type": "text"
      },
      "source": [
        "Finally let's look at the confusion matrix"
      ]
    },
    {
      "cell_type": "code",
      "metadata": {
        "id": "sCGyZjxg9Nnk",
        "colab_type": "code",
        "outputId": "7ef4b021-103d-4f6b-ff72-9315019dc4b1",
        "colab": {
          "base_uri": "https://localhost:8080/",
          "height": 743
        }
      },
      "source": [
        "interp = ClassificationInterpretation.from_learner(learn)\n",
        "\n",
        "losses,idxs = interp.top_losses()\n",
        "\n",
        "interp.plot_confusion_matrix(figsize=(12,12), dpi=60)"
      ],
      "execution_count": 0,
      "outputs": [
        {
          "output_type": "display_data",
          "data": {
            "text/html": [
              ""
            ],
            "text/plain": [
              "<IPython.core.display.HTML object>"
            ]
          },
          "metadata": {
            "tags": []
          }
        },
        {
          "output_type": "display_data",
          "data": {
            "image/png": "[encoded data removed]",
            "text/plain": [
              "<Figure size 720x720 with 1 Axes>"
            ]
          },
          "metadata": {
            "tags": [],
            "needs_background": "light"
          }
        }
      ]
    },
    {
      "cell_type": "code",
      "metadata": {
        "id": "QX-8WcwgEhMr",
        "colab_type": "code",
        "outputId": "a4c1b213-5f40-46fe-9361-4594e5c29347",
        "colab": {
          "base_uri": "https://localhost:8080/",
          "height": 34
        }
      },
      "source": [
        "interp.most_confused(min_val=2)\n",
        "# so the largest part of our validation error are docs that were classified as ham,\n",
        "# although they should be spam"
      ],
      "execution_count": 0,
      "outputs": [
        {
          "output_type": "execute_result",
          "data": {
            "text/plain": [
              "[('spam', 'ham', 7), ('ham', 'spam', 2)]"
            ]
          },
          "metadata": {
            "tags": []
          },
          "execution_count": 64
        }
      ]
    },
    {
      "cell_type": "code",
      "metadata": {
        "id": "DUvAfuE2Ew7G",
        "colab_type": "code",
        "outputId": "4fea1879-4939-44ba-8657-b1c70e4e874f",
        "colab": {
          "base_uri": "https://localhost:8080/",
          "height": 68
        }
      },
      "source": [
        "print(interp.top_losses())"
      ],
      "execution_count": 0,
      "outputs": [
        {
          "output_type": "stream",
          "text": [
            "torch.return_types.topk(\n",
            "values=tensor([6.4405, 2.4401, 1.7176,  ..., -0.0000, -0.0000, -0.0000]),\n",
            "indices=tensor([958, 549, 143,  ..., 410, 118, 641]))\n"
          ],
          "name": "stdout"
        }
      ]
    },
    {
      "cell_type": "markdown",
      "metadata": {
        "id": "RdqcPHiZoUfE",
        "colab_type": "text"
      },
      "source": [
        "We see that index 958 has the highest loss, let's have a look."
      ]
    },
    {
      "cell_type": "code",
      "metadata": {
        "id": "aZjGPszKodb7",
        "colab_type": "code",
        "outputId": "58e78acb-717c-44a8-bbe5-cfc554729f7d",
        "colab": {
          "base_uri": "https://localhost:8080/",
          "height": 51
        }
      },
      "source": [
        "print(data_clas.valid_ds[958])\n",
        "\n",
        "# call predict on the text of example 958. It should be classified as spam.\n",
        "learn.predict(data_clas.valid_ds[958][0])\n",
        "\n",
        "# but it's is classified as ham, with high certainty, that's why we have a high loss here."
      ],
      "execution_count": 0,
      "outputs": [
        {
          "output_type": "stream",
          "text": [
            "(Text xxbos xxmaj did you hear about the new \\ xxmaj xxunk xxmaj xxunk \" ? xxmaj it comes with all of xxmaj xxunk 's stuff ! \", Category spam)\n"
          ],
          "name": "stdout"
        },
        {
          "output_type": "execute_result",
          "data": {
            "text/plain": [
              "(Category ham, tensor(0), tensor([0.9988, 0.0012]))"
            ]
          },
          "metadata": {
            "tags": []
          },
          "execution_count": 70
        }
      ]
    }
  ]
}