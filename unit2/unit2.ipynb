{
 "cells": [
  {
   "cell_type": "markdown",
   "metadata": {},
   "source": [
    "# NLP UNIT 1 and 2\n",
    "\n",
    "\n"
   ]
  },
  {
   "cell_type": "markdown",
   "metadata": {},
   "source": [
    "## Basic NLTK from unit 1"
   ]
  },
  {
   "cell_type": "code",
   "execution_count": 1,
   "metadata": {},
   "outputs": [],
   "source": [
    "import nltk"
   ]
  },
  {
   "cell_type": "code",
   "execution_count": 2,
   "metadata": {},
   "outputs": [
    {
     "name": "stderr",
     "output_type": "stream",
     "text": [
      "[nltk_data] Downloading package gutenberg to /home/wohlg/nltk_data...\n",
      "[nltk_data]   Package gutenberg is already up-to-date!\n",
      "[nltk_data] Downloading collection 'book'\n",
      "[nltk_data]    | \n",
      "[nltk_data]    | Downloading package abc to /home/wohlg/nltk_data...\n",
      "[nltk_data]    |   Package abc is already up-to-date!\n",
      "[nltk_data]    | Downloading package brown to /home/wohlg/nltk_data...\n",
      "[nltk_data]    |   Package brown is already up-to-date!\n",
      "[nltk_data]    | Downloading package chat80 to\n",
      "[nltk_data]    |     /home/wohlg/nltk_data...\n",
      "[nltk_data]    |   Package chat80 is already up-to-date!\n",
      "[nltk_data]    | Downloading package cmudict to\n",
      "[nltk_data]    |     /home/wohlg/nltk_data...\n",
      "[nltk_data]    |   Package cmudict is already up-to-date!\n",
      "[nltk_data]    | Downloading package conll2000 to\n",
      "[nltk_data]    |     /home/wohlg/nltk_data...\n",
      "[nltk_data]    |   Package conll2000 is already up-to-date!\n",
      "[nltk_data]    | Downloading package conll2002 to\n",
      "[nltk_data]    |     /home/wohlg/nltk_data...\n",
      "[nltk_data]    |   Package conll2002 is already up-to-date!\n",
      "[nltk_data]    | Downloading package dependency_treebank to\n",
      "[nltk_data]    |     /home/wohlg/nltk_data...\n",
      "[nltk_data]    |   Package dependency_treebank is already up-to-date!\n",
      "[nltk_data]    | Downloading package genesis to\n",
      "[nltk_data]    |     /home/wohlg/nltk_data...\n",
      "[nltk_data]    |   Package genesis is already up-to-date!\n",
      "[nltk_data]    | Downloading package gutenberg to\n",
      "[nltk_data]    |     /home/wohlg/nltk_data...\n",
      "[nltk_data]    |   Package gutenberg is already up-to-date!\n",
      "[nltk_data]    | Downloading package ieer to /home/wohlg/nltk_data...\n",
      "[nltk_data]    |   Package ieer is already up-to-date!\n",
      "[nltk_data]    | Downloading package inaugural to\n",
      "[nltk_data]    |     /home/wohlg/nltk_data...\n",
      "[nltk_data]    |   Package inaugural is already up-to-date!\n",
      "[nltk_data]    | Downloading package movie_reviews to\n",
      "[nltk_data]    |     /home/wohlg/nltk_data...\n",
      "[nltk_data]    |   Package movie_reviews is already up-to-date!\n",
      "[nltk_data]    | Downloading package nps_chat to\n",
      "[nltk_data]    |     /home/wohlg/nltk_data...\n",
      "[nltk_data]    |   Package nps_chat is already up-to-date!\n",
      "[nltk_data]    | Downloading package names to /home/wohlg/nltk_data...\n",
      "[nltk_data]    |   Package names is already up-to-date!\n",
      "[nltk_data]    | Downloading package ppattach to\n",
      "[nltk_data]    |     /home/wohlg/nltk_data...\n",
      "[nltk_data]    |   Package ppattach is already up-to-date!\n",
      "[nltk_data]    | Downloading package reuters to\n",
      "[nltk_data]    |     /home/wohlg/nltk_data...\n",
      "[nltk_data]    |   Package reuters is already up-to-date!\n",
      "[nltk_data]    | Downloading package senseval to\n",
      "[nltk_data]    |     /home/wohlg/nltk_data...\n",
      "[nltk_data]    |   Package senseval is already up-to-date!\n",
      "[nltk_data]    | Downloading package state_union to\n",
      "[nltk_data]    |     /home/wohlg/nltk_data...\n",
      "[nltk_data]    |   Package state_union is already up-to-date!\n",
      "[nltk_data]    | Downloading package stopwords to\n",
      "[nltk_data]    |     /home/wohlg/nltk_data...\n",
      "[nltk_data]    |   Package stopwords is already up-to-date!\n",
      "[nltk_data]    | Downloading package swadesh to\n",
      "[nltk_data]    |     /home/wohlg/nltk_data...\n",
      "[nltk_data]    |   Package swadesh is already up-to-date!\n",
      "[nltk_data]    | Downloading package timit to /home/wohlg/nltk_data...\n",
      "[nltk_data]    |   Package timit is already up-to-date!\n",
      "[nltk_data]    | Downloading package treebank to\n",
      "[nltk_data]    |     /home/wohlg/nltk_data...\n",
      "[nltk_data]    |   Package treebank is already up-to-date!\n",
      "[nltk_data]    | Downloading package toolbox to\n",
      "[nltk_data]    |     /home/wohlg/nltk_data...\n",
      "[nltk_data]    |   Package toolbox is already up-to-date!\n",
      "[nltk_data]    | Downloading package udhr to /home/wohlg/nltk_data...\n",
      "[nltk_data]    |   Package udhr is already up-to-date!\n",
      "[nltk_data]    | Downloading package udhr2 to /home/wohlg/nltk_data...\n",
      "[nltk_data]    |   Package udhr2 is already up-to-date!\n",
      "[nltk_data]    | Downloading package unicode_samples to\n",
      "[nltk_data]    |     /home/wohlg/nltk_data...\n",
      "[nltk_data]    |   Package unicode_samples is already up-to-date!\n",
      "[nltk_data]    | Downloading package webtext to\n",
      "[nltk_data]    |     /home/wohlg/nltk_data...\n",
      "[nltk_data]    |   Package webtext is already up-to-date!\n",
      "[nltk_data]    | Downloading package wordnet to\n",
      "[nltk_data]    |     /home/wohlg/nltk_data...\n",
      "[nltk_data]    |   Package wordnet is already up-to-date!\n",
      "[nltk_data]    | Downloading package wordnet_ic to\n",
      "[nltk_data]    |     /home/wohlg/nltk_data...\n",
      "[nltk_data]    |   Package wordnet_ic is already up-to-date!\n",
      "[nltk_data]    | Downloading package words to /home/wohlg/nltk_data...\n",
      "[nltk_data]    |   Package words is already up-to-date!\n",
      "[nltk_data]    | Downloading package maxent_treebank_pos_tagger to\n",
      "[nltk_data]    |     /home/wohlg/nltk_data...\n",
      "[nltk_data]    |   Package maxent_treebank_pos_tagger is already up-\n",
      "[nltk_data]    |       to-date!\n",
      "[nltk_data]    | Downloading package maxent_ne_chunker to\n",
      "[nltk_data]    |     /home/wohlg/nltk_data...\n",
      "[nltk_data]    |   Package maxent_ne_chunker is already up-to-date!\n",
      "[nltk_data]    | Downloading package universal_tagset to\n",
      "[nltk_data]    |     /home/wohlg/nltk_data...\n",
      "[nltk_data]    |   Package universal_tagset is already up-to-date!\n",
      "[nltk_data]    | Downloading package punkt to /home/wohlg/nltk_data...\n",
      "[nltk_data]    |   Package punkt is already up-to-date!\n",
      "[nltk_data]    | Downloading package book_grammars to\n",
      "[nltk_data]    |     /home/wohlg/nltk_data...\n",
      "[nltk_data]    |   Package book_grammars is already up-to-date!\n",
      "[nltk_data]    | Downloading package city_database to\n",
      "[nltk_data]    |     /home/wohlg/nltk_data...\n",
      "[nltk_data]    |   Package city_database is already up-to-date!\n",
      "[nltk_data]    | Downloading package tagsets to\n",
      "[nltk_data]    |     /home/wohlg/nltk_data...\n",
      "[nltk_data]    |   Package tagsets is already up-to-date!\n",
      "[nltk_data]    | Downloading package panlex_swadesh to\n",
      "[nltk_data]    |     /home/wohlg/nltk_data...\n",
      "[nltk_data]    |   Package panlex_swadesh is already up-to-date!\n",
      "[nltk_data]    | Downloading package averaged_perceptron_tagger to\n",
      "[nltk_data]    |     /home/wohlg/nltk_data...\n",
      "[nltk_data]    |   Package averaged_perceptron_tagger is already up-\n",
      "[nltk_data]    |       to-date!\n",
      "[nltk_data]    | \n",
      "[nltk_data]  Done downloading collection book\n"
     ]
    },
    {
     "data": {
      "text/plain": [
       "True"
      ]
     },
     "execution_count": 2,
     "metadata": {},
     "output_type": "execute_result"
    }
   ],
   "source": [
    "nltk.download('gutenberg')\n",
    "nltk.download('book')"
   ]
  },
  {
   "cell_type": "code",
   "execution_count": 3,
   "metadata": {},
   "outputs": [
    {
     "name": "stdout",
     "output_type": "stream",
     "text": [
      "*** Introductory Examples for the NLTK Book ***\n",
      "Loading text1, ..., text9 and sent1, ..., sent9\n",
      "Type the name of the text or sentence to view it.\n",
      "Type: 'texts()' or 'sents()' to list the materials.\n",
      "text1: Moby Dick by Herman Melville 1851\n",
      "text2: Sense and Sensibility by Jane Austen 1811\n",
      "text3: The Book of Genesis\n",
      "text4: Inaugural Address Corpus\n",
      "text5: Chat Corpus\n",
      "text6: Monty Python and the Holy Grail\n",
      "text7: Wall Street Journal\n",
      "text8: Personals Corpus\n",
      "text9: The Man Who Was Thursday by G . K . Chesterton 1908\n"
     ]
    }
   ],
   "source": [
    "from nltk.book import *"
   ]
  },
  {
   "cell_type": "code",
   "execution_count": 4,
   "metadata": {
    "scrolled": true
   },
   "outputs": [
    {
     "name": "stdout",
     "output_type": "stream",
     "text": [
      "Displaying 10 of 10 matches:\n",
      "nclude that , like the dyspeptic old woman , he must have \" broken his digester\n",
      "flections by the sight of a freckled woman with yellow hair and a yellow gown ,\n",
      "e ' s rheumatic back . Never did any woman better deserve her name , which was \n",
      "ir limbs . Nor can any son of mortal woman , for the first time , seat himself \n",
      "\" Mr . Har -- yes , Mr . Harry --( a woman ' s pinny hand ,-- the man ' s wife \n",
      "in this same last or shoe , that old woman of the nursery tale , with the swarm\n",
      "eginning at the end . It ' s the old woman ' s tricks to be giving cobbling job\n",
      "men have for tinkers . I know an old woman of sixty - five who ran away with a \n",
      "transparently pure and soft , with a woman ' s look , and the robust and man - \n",
      "Starbuck die , if die he must , in a woman ' s fainting fit . Up helm , I say -\n"
     ]
    }
   ],
   "source": [
    "text1.concordance(\"woman\")"
   ]
  },
  {
   "cell_type": "code",
   "execution_count": 9,
   "metadata": {},
   "outputs": [
    {
     "name": "stdout",
     "output_type": "stream",
     "text": [
      "large good by old true this far well hopeless much on plainly white\n",
      "soon main green nearly thousand sure slowly\n"
     ]
    }
   ],
   "source": [
    "text1.similar(\"big\")"
   ]
  },
  {
   "cell_type": "code",
   "execution_count": 11,
   "metadata": {},
   "outputs": [
    {
     "data": {
      "text/plain": [
       "['!',\n",
       " \"'\",\n",
       " '(',\n",
       " ')',\n",
       " ',',\n",
       " ',)',\n",
       " '.',\n",
       " '.)',\n",
       " ':',\n",
       " ';',\n",
       " ';)',\n",
       " '?',\n",
       " '?)',\n",
       " 'A',\n",
       " 'Abel',\n",
       " 'Abelmizraim',\n",
       " 'Abidah',\n",
       " 'Abide',\n",
       " 'Abimael',\n",
       " 'Abimelech']"
      ]
     },
     "execution_count": 11,
     "metadata": {},
     "output_type": "execute_result"
    }
   ],
   "source": [
    "# create a vocabulary using the text object\n",
    "sorted(set(text3))[:20]"
   ]
  },
  {
   "cell_type": "code",
   "execution_count": 13,
   "metadata": {},
   "outputs": [
    {
     "data": {
      "text/plain": [
       "0.06230453042623537"
      ]
     },
     "execution_count": 13,
     "metadata": {},
     "output_type": "execute_result"
    }
   ],
   "source": [
    "# lexical diversity\n",
    "len(set(text3)) / len(text3)"
   ]
  },
  {
   "cell_type": "code",
   "execution_count": 18,
   "metadata": {},
   "outputs": [
    {
     "data": {
      "text/plain": [
       "['In', 'the', 'beginning', 'God', 'created']"
      ]
     },
     "execution_count": 18,
     "metadata": {},
     "output_type": "execute_result"
    }
   ],
   "source": [
    "# text object is a list of words!\n",
    "text3[0:5]"
   ]
  },
  {
   "cell_type": "code",
   "execution_count": 5,
   "metadata": {},
   "outputs": [],
   "source": [
    "%matplotlib inline\n",
    "\n",
    "import matplotlib\n",
    "import numpy as np\n",
    "import matplotlib.pyplot as plt"
   ]
  },
  {
   "cell_type": "code",
   "execution_count": 8,
   "metadata": {},
   "outputs": [
    {
     "name": "stdout",
     "output_type": "stream",
     "text": [
      "Collecting matplotlib\n",
      "\u001b[?25l  Downloading https://files.pythonhosted.org/packages/4c/9b/35ab3469fd1509f7636a344940569ebfd33239673fd2318e80b4700a257c/matplotlib-3.1.3-cp37-cp37m-manylinux1_x86_64.whl (13.1MB)\n",
      "\u001b[K    100% |████████████████████████████████| 13.1MB 110kB/s ta 0:00:01    86% |███████████████████████████▊    | 11.4MB 1.9MB/s eta 0:00:01    89% |████████████████████████████▌   | 11.7MB 2.3MB/s eta 0:00:01\n",
      "\u001b[?25hRequirement already satisfied: pyparsing!=2.0.4,!=2.1.2,!=2.1.6,>=2.0.1 in /home/wohlg/.local/lib/python3.7/site-packages (from matplotlib) (2.4.2)\n",
      "Requirement already satisfied: numpy>=1.11 in /usr/local/lib/python3.7/dist-packages/numpy-1.17.0-py3.7-linux-x86_64.egg (from matplotlib) (1.17.0)\n",
      "Collecting kiwisolver>=1.0.1 (from matplotlib)\n",
      "\u001b[?25l  Downloading https://files.pythonhosted.org/packages/93/f8/518fb0bb89860eea6ff1b96483fbd9236d5ee991485d0f3eceff1770f654/kiwisolver-1.1.0-cp37-cp37m-manylinux1_x86_64.whl (90kB)\n",
      "\u001b[K    100% |████████████████████████████████| 92kB 1.0MB/s ta 0:00:01\n",
      "\u001b[?25hCollecting cycler>=0.10 (from matplotlib)\n",
      "  Using cached https://files.pythonhosted.org/packages/f7/d2/e07d3ebb2bd7af696440ce7e754c59dd546ffe1bbe732c8ab68b9c834e61/cycler-0.10.0-py2.py3-none-any.whl\n",
      "Requirement already satisfied: python-dateutil>=2.1 in /usr/lib/python3/dist-packages (from matplotlib) (2.7.3)\n",
      "Requirement already satisfied: setuptools in /home/wohlg/.local/lib/python3.7/site-packages (from kiwisolver>=1.0.1->matplotlib) (41.1.0)\n",
      "Requirement already satisfied: six in /usr/lib/python3/dist-packages (from cycler>=0.10->matplotlib) (1.12.0)\n",
      "Installing collected packages: kiwisolver, cycler, matplotlib\n",
      "Successfully installed cycler-0.10.0 kiwisolver-1.1.0 matplotlib-3.1.3\n"
     ]
    }
   ],
   "source": [
    "!pip3 install matplotlib"
   ]
  },
  {
   "cell_type": "code",
   "execution_count": 6,
   "metadata": {
    "scrolled": true
   },
   "outputs": [
    {
     "name": "stderr",
     "output_type": "stream",
     "text": [
      "/home/wohlg/.local/lib/python3.7/site-packages/nltk/draw/__init__.py:15: UserWarning: nltk.draw package not loaded (please install Tkinter library).\n",
      "  warnings.warn(\"nltk.draw package not loaded \" \"(please install Tkinter library).\")\n"
     ]
    },
    {
     "data": {
      "image/png": "[encoded data removed]",
      "text/plain": [
       "<Figure size 432x288 with 1 Axes>"
      ]
     },
     "metadata": {
      "needs_background": "light"
     },
     "output_type": "display_data"
    }
   ],
   "source": [
    "text4.dispersion_plot([\"citizens\", \"democracy\", \"freedom\", \"duties\", \"America\"])"
   ]
  },
  {
   "cell_type": "code",
   "execution_count": 7,
   "metadata": {},
   "outputs": [
    {
     "name": "stderr",
     "output_type": "stream",
     "text": [
      "Building ngram index...\n"
     ]
    },
    {
     "name": "stdout",
     "output_type": "stream",
     "text": [
      "occur , and especially the truth that democratic government has innate\n",
      "capacity to govern its affairs aright through the Province ceded , by\n",
      "any timid forebodings of evil were not to overtake them while I\n",
      "possess the property of the peaks and the exercise of free and firm on\n",
      "the farm , in view that the best of my countrymen will ever find me\n",
      "ready to confer their benefits on countless generations yet to make\n",
      "its promise for all generations .\" , remains essentially unchanged .\n",
      "cost of the Rocky Mountains . abuses of an ever - expanding American\n",
      "dream\n"
     ]
    },
    {
     "data": {
      "text/plain": [
       "'occur , and especially the truth that democratic government has innate\\ncapacity to govern its affairs aright through the Province ceded , by\\nany timid forebodings of evil were not to overtake them while I\\npossess the property of the peaks and the exercise of free and firm on\\nthe farm , in view that the best of my countrymen will ever find me\\nready to confer their benefits on countless generations yet to make\\nits promise for all generations .\" , remains essentially unchanged .\\ncost of the Rocky Mountains . abuses of an ever - expanding American\\ndream'"
      ]
     },
     "execution_count": 7,
     "metadata": {},
     "output_type": "execute_result"
    }
   ],
   "source": [
    "text4.generate()"
   ]
  },
  {
   "cell_type": "code",
   "execution_count": 19,
   "metadata": {},
   "outputs": [
    {
     "name": "stderr",
     "output_type": "stream",
     "text": [
      "Building ngram index...\n"
     ]
    },
    {
     "name": "stdout",
     "output_type": "stream",
     "text": [
      "long , from one to the top - mast , and no coffin and went out a sea\n",
      "captain -- this peaking of the whales . , so as to preserve all his\n",
      "might had in former years abounding with them , they toil with their\n",
      "lances , strange tales of Southern whaling . at once the bravest\n",
      "Indians he was , after in vain strove to pierce the profundity . ?\n",
      "then ?\" a levelled flame of pale , And give no chance , watch him ;\n",
      "though the line , it is to be gainsaid . have been\n"
     ]
    },
    {
     "data": {
      "text/plain": [
       "'long , from one to the top - mast , and no coffin and went out a sea\\ncaptain -- this peaking of the whales . , so as to preserve all his\\nmight had in former years abounding with them , they toil with their\\nlances , strange tales of Southern whaling . at once the bravest\\nIndians he was , after in vain strove to pierce the profundity . ?\\nthen ?\" a levelled flame of pale , And give no chance , watch him ;\\nthough the line , it is to be gainsaid . have been'"
      ]
     },
     "execution_count": 19,
     "metadata": {},
     "output_type": "execute_result"
    }
   ],
   "source": [
    "text1.generate()"
   ]
  },
  {
   "cell_type": "markdown",
   "metadata": {},
   "source": [
    "### Frequency distributions:\n"
   ]
  },
  {
   "cell_type": "code",
   "execution_count": 21,
   "metadata": {},
   "outputs": [
    {
     "data": {
      "text/plain": [
       "[(',', 18713),\n",
       " ('the', 13721),\n",
       " ('.', 6862),\n",
       " ('of', 6536),\n",
       " ('and', 6024),\n",
       " ('a', 4569),\n",
       " ('to', 4542),\n",
       " (';', 4072),\n",
       " ('in', 3916),\n",
       " ('that', 2982)]"
      ]
     },
     "execution_count": 21,
     "metadata": {},
     "output_type": "execute_result"
    }
   ],
   "source": [
    "fdist1 = FreqDist(text1)\n",
    "fdist1.most_common(10)"
   ]
  },
  {
   "cell_type": "code",
   "execution_count": 23,
   "metadata": {},
   "outputs": [
    {
     "data": {
      "text/plain": [
       "192"
      ]
     },
     "execution_count": 23,
     "metadata": {},
     "output_type": "execute_result"
    }
   ],
   "source": [
    "# get position of a specific word\n",
    "fdist1['good']"
   ]
  },
  {
   "cell_type": "code",
   "execution_count": 25,
   "metadata": {},
   "outputs": [
    {
     "data": {
      "image/png": "[encoded data removed]",
      "text/plain": [
       "<Figure size 432x288 with 1 Axes>"
      ]
     },
     "metadata": {
      "needs_background": "light"
     },
     "output_type": "display_data"
    },
    {
     "data": {
      "text/plain": [
       "<matplotlib.axes._subplots.AxesSubplot at 0x7faa405a3590>"
      ]
     },
     "execution_count": 25,
     "metadata": {},
     "output_type": "execute_result"
    }
   ],
   "source": [
    "fdist1.plot(10, cumulative=False)"
   ]
  },
  {
   "cell_type": "code",
   "execution_count": 26,
   "metadata": {},
   "outputs": [
    {
     "ename": "ValueError",
     "evalue": "too many values to unpack (expected 2)",
     "output_type": "error",
     "traceback": [
      "\u001b[0;31m---------------------------------------------------------------------------\u001b[0m",
      "\u001b[0;31mValueError\u001b[0m                                Traceback (most recent call last)",
      "\u001b[0;32m<ipython-input-26-56fc6e5515a1>\u001b[0m in \u001b[0;36m<module>\u001b[0;34m()\u001b[0m\n\u001b[0;32m----> 1\u001b[0;31m \u001b[0mtext4\u001b[0m\u001b[0;34m.\u001b[0m\u001b[0mcollocations\u001b[0m\u001b[0;34m(\u001b[0m\u001b[0;34m)\u001b[0m\u001b[0;34m\u001b[0m\u001b[0;34m\u001b[0m\u001b[0m\n\u001b[0m",
      "\u001b[0;32m/home/wohlg/.local/lib/python3.7/site-packages/nltk/text.py\u001b[0m in \u001b[0;36mcollocations\u001b[0;34m(self, num, window_size)\u001b[0m\n\u001b[1;32m    442\u001b[0m \u001b[0;34m\u001b[0m\u001b[0m\n\u001b[1;32m    443\u001b[0m         collocation_strings = [\n\u001b[0;32m--> 444\u001b[0;31m             \u001b[0mw1\u001b[0m \u001b[0;34m+\u001b[0m \u001b[0;34m\" \"\u001b[0m \u001b[0;34m+\u001b[0m \u001b[0mw2\u001b[0m \u001b[0;32mfor\u001b[0m \u001b[0mw1\u001b[0m\u001b[0;34m,\u001b[0m \u001b[0mw2\u001b[0m \u001b[0;32min\u001b[0m \u001b[0mself\u001b[0m\u001b[0;34m.\u001b[0m\u001b[0mcollocation_list\u001b[0m\u001b[0;34m(\u001b[0m\u001b[0mnum\u001b[0m\u001b[0;34m,\u001b[0m \u001b[0mwindow_size\u001b[0m\u001b[0;34m)\u001b[0m\u001b[0;34m\u001b[0m\u001b[0;34m\u001b[0m\u001b[0m\n\u001b[0m\u001b[1;32m    445\u001b[0m         ]\n\u001b[1;32m    446\u001b[0m         \u001b[0mprint\u001b[0m\u001b[0;34m(\u001b[0m\u001b[0mtokenwrap\u001b[0m\u001b[0;34m(\u001b[0m\u001b[0mcollocation_strings\u001b[0m\u001b[0;34m,\u001b[0m \u001b[0mseparator\u001b[0m\u001b[0;34m=\u001b[0m\u001b[0;34m\"; \"\u001b[0m\u001b[0;34m)\u001b[0m\u001b[0;34m)\u001b[0m\u001b[0;34m\u001b[0m\u001b[0;34m\u001b[0m\u001b[0m\n",
      "\u001b[0;32m/home/wohlg/.local/lib/python3.7/site-packages/nltk/text.py\u001b[0m in \u001b[0;36m<listcomp>\u001b[0;34m(.0)\u001b[0m\n\u001b[1;32m    442\u001b[0m \u001b[0;34m\u001b[0m\u001b[0m\n\u001b[1;32m    443\u001b[0m         collocation_strings = [\n\u001b[0;32m--> 444\u001b[0;31m             \u001b[0mw1\u001b[0m \u001b[0;34m+\u001b[0m \u001b[0;34m\" \"\u001b[0m \u001b[0;34m+\u001b[0m \u001b[0mw2\u001b[0m \u001b[0;32mfor\u001b[0m \u001b[0mw1\u001b[0m\u001b[0;34m,\u001b[0m \u001b[0mw2\u001b[0m \u001b[0;32min\u001b[0m \u001b[0mself\u001b[0m\u001b[0;34m.\u001b[0m\u001b[0mcollocation_list\u001b[0m\u001b[0;34m(\u001b[0m\u001b[0mnum\u001b[0m\u001b[0;34m,\u001b[0m \u001b[0mwindow_size\u001b[0m\u001b[0;34m)\u001b[0m\u001b[0;34m\u001b[0m\u001b[0;34m\u001b[0m\u001b[0m\n\u001b[0m\u001b[1;32m    445\u001b[0m         ]\n\u001b[1;32m    446\u001b[0m         \u001b[0mprint\u001b[0m\u001b[0;34m(\u001b[0m\u001b[0mtokenwrap\u001b[0m\u001b[0;34m(\u001b[0m\u001b[0mcollocation_strings\u001b[0m\u001b[0;34m,\u001b[0m \u001b[0mseparator\u001b[0m\u001b[0;34m=\u001b[0m\u001b[0;34m\"; \"\u001b[0m\u001b[0;34m)\u001b[0m\u001b[0;34m)\u001b[0m\u001b[0;34m\u001b[0m\u001b[0;34m\u001b[0m\u001b[0m\n",
      "\u001b[0;31mValueError\u001b[0m: too many values to unpack (expected 2)"
     ]
    }
   ],
   "source": []
  },
  {
   "cell_type": "markdown",
   "metadata": {},
   "source": [
    "## working with corpora -- gutenberg build-in files"
   ]
  },
  {
   "cell_type": "code",
   "execution_count": 27,
   "metadata": {},
   "outputs": [
    {
     "data": {
      "text/plain": [
       "['austen-emma.txt',\n",
       " 'austen-persuasion.txt',\n",
       " 'austen-sense.txt',\n",
       " 'bible-kjv.txt',\n",
       " 'blake-poems.txt',\n",
       " 'bryant-stories.txt',\n",
       " 'burgess-busterbrown.txt',\n",
       " 'carroll-alice.txt',\n",
       " 'chesterton-ball.txt',\n",
       " 'chesterton-brown.txt',\n",
       " 'chesterton-thursday.txt',\n",
       " 'edgeworth-parents.txt',\n",
       " 'melville-moby_dick.txt',\n",
       " 'milton-paradise.txt',\n",
       " 'shakespeare-caesar.txt',\n",
       " 'shakespeare-hamlet.txt',\n",
       " 'shakespeare-macbeth.txt',\n",
       " 'whitman-leaves.txt']"
      ]
     },
     "execution_count": 27,
     "metadata": {},
     "output_type": "execute_result"
    }
   ],
   "source": [
    "nltk.corpus.gutenberg.fileids()"
   ]
  },
  {
   "cell_type": "code",
   "execution_count": 28,
   "metadata": {},
   "outputs": [],
   "source": [
    "emma = nltk.corpus.gutenberg.words('austen-emma.txt')"
   ]
  },
  {
   "cell_type": "code",
   "execution_count": 30,
   "metadata": {},
   "outputs": [],
   "source": [
    "t_emma = nltk.Text(emma)"
   ]
  },
  {
   "cell_type": "code",
   "execution_count": 33,
   "metadata": {},
   "outputs": [
    {
     "data": {
      "text/plain": [
       "'[Emma by Jane Austen 1816]\\n\\nVOLUME I\\n\\nCHAPTER I\\n\\n\\n'"
      ]
     },
     "execution_count": 33,
     "metadata": {},
     "output_type": "execute_result"
    }
   ],
   "source": [
    "gutenberg.raw('austen-emma.txt')[:50]"
   ]
  },
  {
   "cell_type": "code",
   "execution_count": 35,
   "metadata": {},
   "outputs": [
    {
     "data": {
      "text/plain": [
       "['[', 'Emma', 'by', 'Jane', 'Austen', '1816', ']', 'VOLUME', 'I', 'CHAPTER']"
      ]
     },
     "execution_count": 35,
     "metadata": {},
     "output_type": "execute_result"
    }
   ],
   "source": [
    "gutenberg.words('austen-emma.txt')[:10]"
   ]
  },
  {
   "cell_type": "code",
   "execution_count": 37,
   "metadata": {},
   "outputs": [
    {
     "data": {
      "text/plain": [
       "[['[', 'Emma', 'by', 'Jane', 'Austen', '1816', ']'],\n",
       " ['VOLUME', 'I'],\n",
       " ['CHAPTER', 'I']]"
      ]
     },
     "execution_count": 37,
     "metadata": {},
     "output_type": "execute_result"
    }
   ],
   "source": [
    "gutenberg.sents('austen-emma.txt')[:3]"
   ]
  },
  {
   "cell_type": "markdown",
   "metadata": {},
   "source": [
    "## processing raw text:"
   ]
  },
  {
   "cell_type": "code",
   "execution_count": 40,
   "metadata": {},
   "outputs": [
    {
     "name": "stdout",
     "output_type": "stream",
     "text": [
      "<class 'str'>\n",
      "1176967\n",
      "﻿The Project Gutenberg EBook of Crime and Punishment, by Fyodor Dostoevsky\r\n",
      "\r\n",
      "This eBook is for the \n"
     ]
    }
   ],
   "source": [
    "from urllib import request\n",
    "url = \"http://www.gutenberg.org/files/2554/2554-0.txt\"\n",
    "response = request.urlopen(url)\n",
    "raw = response.read().decode('utf8')\n",
    "\n",
    "print(type(raw))\n",
    "print(len(raw))\n",
    "print(raw[:100])"
   ]
  },
  {
   "cell_type": "code",
   "execution_count": 42,
   "metadata": {},
   "outputs": [
    {
     "name": "stdout",
     "output_type": "stream",
     "text": [
      "['\\ufeffThe', 'Project', 'Gutenberg', 'EBook', 'of', 'Crime', 'and', 'Punishment', ',', 'by']\n"
     ]
    }
   ],
   "source": [
    "## word tokenize\n",
    "tokens = nltk.word_tokenize(raw)\n",
    "print(tokens[:10])"
   ]
  },
  {
   "cell_type": "code",
   "execution_count": 74,
   "metadata": {},
   "outputs": [
    {
     "data": {
      "text/plain": [
       "['Though always sickly and delicate Dostoevsky came out third in the\\r\\nfinal examination of the Petersburg school of Engineering.',\n",
       " 'There he had\\r\\nalready begun his first work, “Poor Folk.”\\r\\n\\r\\nThis story was published by the poet Nekrassov in his review and\\r\\nwas received with acclamations.',\n",
       " 'The shy, unknown youth found himself\\r\\ninstantly something of a celebrity.']"
      ]
     },
     "execution_count": 74,
     "metadata": {},
     "output_type": "execute_result"
    }
   ],
   "source": [
    "## tokenize into sentences\n",
    "sents = nltk.sent_tokenize(raw)\n",
    "sents[5:8]\n"
   ]
  },
  {
   "cell_type": "code",
   "execution_count": 43,
   "metadata": {},
   "outputs": [],
   "source": [
    "# make into a text object\n",
    "text = nltk.Text(tokens)"
   ]
  },
  {
   "cell_type": "code",
   "execution_count": 53,
   "metadata": {
    "scrolled": true
   },
   "outputs": [
    {
     "data": {
      "text/plain": [
       "[(')', 176),\n",
       " ('take', 176),\n",
       " ('understand', 175),\n",
       " ('stood', 175),\n",
       " ('turned', 175),\n",
       " ('any', 173),\n",
       " ('Pyotr', 173),\n",
       " ('own', 172),\n",
       " ('felt', 170),\n",
       " ('course', 168)]"
      ]
     },
     "execution_count": 53,
     "metadata": {},
     "output_type": "execute_result"
    }
   ],
   "source": [
    "fdist1 = FreqDist(text)\n",
    "fdist1.most_common(200)[190:200]"
   ]
  },
  {
   "cell_type": "code",
   "execution_count": null,
   "metadata": {},
   "outputs": [],
   "source": [
    "## Stemming / Lemmas"
   ]
  },
  {
   "cell_type": "code",
   "execution_count": 54,
   "metadata": {},
   "outputs": [],
   "source": [
    "porter = nltk.PorterStemmer()"
   ]
  },
  {
   "cell_type": "code",
   "execution_count": 59,
   "metadata": {},
   "outputs": [
    {
     "data": {
      "text/plain": [
       "'ask'"
      ]
     },
     "execution_count": 59,
     "metadata": {},
     "output_type": "execute_result"
    }
   ],
   "source": [
    "porter.stem('ask')"
   ]
  },
  {
   "cell_type": "code",
   "execution_count": 64,
   "metadata": {},
   "outputs": [
    {
     "data": {
      "text/plain": [
       "['and',\n",
       " 'delic',\n",
       " 'dostoevski',\n",
       " 'came',\n",
       " 'out',\n",
       " 'third',\n",
       " 'in',\n",
       " 'the',\n",
       " 'final',\n",
       " 'examin',\n",
       " 'of',\n",
       " 'the',\n",
       " 'petersburg',\n",
       " 'school',\n",
       " 'of',\n",
       " 'engin',\n",
       " '.',\n",
       " 'there',\n",
       " 'he',\n",
       " 'had']"
      ]
     },
     "execution_count": 64,
     "metadata": {},
     "output_type": "execute_result"
    }
   ],
   "source": [
    "[porter.stem(t) for t in tokens[200:220]]"
   ]
  },
  {
   "cell_type": "code",
   "execution_count": 65,
   "metadata": {},
   "outputs": [],
   "source": [
    "wnl = nltk.WordNetLemmatizer()"
   ]
  },
  {
   "cell_type": "code",
   "execution_count": 68,
   "metadata": {},
   "outputs": [
    {
     "data": {
      "text/plain": [
       "['and',\n",
       " 'delicate',\n",
       " 'Dostoevsky',\n",
       " 'came',\n",
       " 'out',\n",
       " 'third',\n",
       " 'in',\n",
       " 'the',\n",
       " 'final',\n",
       " 'examination',\n",
       " 'of',\n",
       " 'the',\n",
       " 'Petersburg',\n",
       " 'school',\n",
       " 'of',\n",
       " 'Engineering',\n",
       " '.',\n",
       " 'There',\n",
       " 'he',\n",
       " 'had']"
      ]
     },
     "execution_count": 68,
     "metadata": {},
     "output_type": "execute_result"
    }
   ],
   "source": [
    "[wnl.lemmatize(t) for t in tokens[200:220]]"
   ]
  },
  {
   "cell_type": "code",
   "execution_count": 75,
   "metadata": {},
   "outputs": [
    {
     "data": {
      "text/plain": [
       "[('\\ufeffThe', 'NN'),\n",
       " ('Project', 'NNP'),\n",
       " ('Gutenberg', 'NNP'),\n",
       " ('EBook', 'NNP'),\n",
       " ('of', 'IN'),\n",
       " ('Crime', 'NNP'),\n",
       " ('and', 'CC'),\n",
       " ('Punishment', 'NNP'),\n",
       " (',', ','),\n",
       " ('by', 'IN'),\n",
       " ('Fyodor', 'NNP'),\n",
       " ('Dostoevsky', 'NNP'),\n",
       " ('This', 'DT'),\n",
       " ('eBook', 'NN'),\n",
       " ('is', 'VBZ'),\n",
       " ('for', 'IN'),\n",
       " ('the', 'DT'),\n",
       " ('use', 'NN'),\n",
       " ('of', 'IN'),\n",
       " ('anyone', 'NN'),\n",
       " ('anywhere', 'RB'),\n",
       " ('at', 'IN'),\n",
       " ('no', 'DT'),\n",
       " ('cost', 'NN'),\n",
       " ('and', 'CC'),\n",
       " ('with', 'IN'),\n",
       " ('almost', 'RB'),\n",
       " ('no', 'DT'),\n",
       " ('restrictions', 'NNS'),\n",
       " ('whatsoever', 'RB'),\n",
       " ('.', '.'),\n",
       " ('You', 'PRP'),\n",
       " ('may', 'MD'),\n",
       " ('copy', 'VB'),\n",
       " ('it', 'PRP'),\n",
       " (',', ','),\n",
       " ('give', 'VB'),\n",
       " ('it', 'PRP'),\n",
       " ('away', 'RB'),\n",
       " ('or', 'CC'),\n",
       " ('re-use', 'VB'),\n",
       " ('it', 'PRP'),\n",
       " ('under', 'IN'),\n",
       " ('the', 'DT'),\n",
       " ('terms', 'NNS'),\n",
       " ('of', 'IN'),\n",
       " ('the', 'DT'),\n",
       " ('Project', 'NNP'),\n",
       " ('Gutenberg', 'NNP'),\n",
       " ('License', 'NNP'),\n",
       " ('included', 'VBD'),\n",
       " ('with', 'IN'),\n",
       " ('this', 'DT'),\n",
       " ('eBook', 'NN'),\n",
       " ('or', 'CC'),\n",
       " ('online', 'NN'),\n",
       " ('at', 'IN'),\n",
       " ('www.gutenberg.org', 'JJ'),\n",
       " ('Title', 'NN'),\n",
       " (':', ':'),\n",
       " ('Crime', 'NN'),\n",
       " ('and', 'CC'),\n",
       " ('Punishment', 'NN'),\n",
       " ('Author', 'NN'),\n",
       " (':', ':'),\n",
       " ('Fyodor', 'NNP'),\n",
       " ('Dostoevsky', 'NNP'),\n",
       " ('Release', 'NNP'),\n",
       " ('Date', 'NNP'),\n",
       " (':', ':'),\n",
       " ('March', 'NNP'),\n",
       " ('28', 'CD'),\n",
       " (',', ','),\n",
       " ('2006', 'CD'),\n",
       " ('[', 'NNP'),\n",
       " ('EBook', 'NNP'),\n",
       " ('#', '#'),\n",
       " ('2554', 'CD'),\n",
       " (']', 'NN'),\n",
       " ('Last', 'JJ'),\n",
       " ('Updated', 'VBN'),\n",
       " (':', ':'),\n",
       " ('October', 'NNP'),\n",
       " ('27', 'CD'),\n",
       " (',', ','),\n",
       " ('2016', 'CD'),\n",
       " ('Language', 'NN'),\n",
       " (':', ':'),\n",
       " ('English', 'JJ'),\n",
       " ('Character', 'NNP'),\n",
       " ('set', 'VBD'),\n",
       " ('encoding', 'VBG'),\n",
       " (':', ':'),\n",
       " ('UTF-8', 'JJ'),\n",
       " ('***', 'NNP'),\n",
       " ('START', 'NNP'),\n",
       " ('OF', 'IN'),\n",
       " ('THIS', 'NNP'),\n",
       " ('PROJECT', 'NNP'),\n",
       " ('GUTENBERG', 'NNP'),\n",
       " ('EBOOK', 'NNP'),\n",
       " ('CRIME', 'NNP'),\n",
       " ('AND', 'NNP'),\n",
       " ('PUNISHMENT', 'NNP'),\n",
       " ('***', 'NNP'),\n",
       " ('Produced', 'NNP'),\n",
       " ('by', 'IN'),\n",
       " ('John', 'NNP'),\n",
       " ('Bickers', 'NNP'),\n",
       " (';', ':'),\n",
       " ('and', 'CC'),\n",
       " ('Dagny', 'NNP'),\n",
       " ('CRIME', 'NNP'),\n",
       " ('AND', 'NNP'),\n",
       " ('PUNISHMENT', 'NNP'),\n",
       " ('By', 'IN'),\n",
       " ('Fyodor', 'NNP'),\n",
       " ('Dostoevsky', 'NNP'),\n",
       " ('Translated', 'NNP'),\n",
       " ('By', 'IN'),\n",
       " ('Constance', 'NNP'),\n",
       " ('Garnett', 'NNP'),\n",
       " ('TRANSLATOR', 'NNP'),\n",
       " ('’', 'NNP'),\n",
       " ('S', 'NNP'),\n",
       " ('PREFACE', 'NNP'),\n",
       " ('A', 'NNP'),\n",
       " ('few', 'JJ'),\n",
       " ('words', 'NNS'),\n",
       " ('about', 'IN'),\n",
       " ('Dostoevsky', 'NNP'),\n",
       " ('himself', 'PRP'),\n",
       " ('may', 'MD'),\n",
       " ('help', 'VB'),\n",
       " ('the', 'DT'),\n",
       " ('English', 'JJ'),\n",
       " ('reader', 'NN'),\n",
       " ('to', 'TO'),\n",
       " ('understand', 'VB'),\n",
       " ('his', 'PRP$'),\n",
       " ('work', 'NN'),\n",
       " ('.', '.'),\n",
       " ('Dostoevsky', 'NNP'),\n",
       " ('was', 'VBD'),\n",
       " ('the', 'DT'),\n",
       " ('son', 'NN'),\n",
       " ('of', 'IN'),\n",
       " ('a', 'DT'),\n",
       " ('doctor', 'NN'),\n",
       " ('.', '.'),\n",
       " ('His', 'PRP$'),\n",
       " ('parents', 'NNS'),\n",
       " ('were', 'VBD'),\n",
       " ('very', 'RB'),\n",
       " ('hard-working', 'JJ'),\n",
       " ('and', 'CC'),\n",
       " ('deeply', 'RB'),\n",
       " ('religious', 'JJ'),\n",
       " ('people', 'NNS'),\n",
       " (',', ','),\n",
       " ('but', 'CC'),\n",
       " ('so', 'RB'),\n",
       " ('poor', 'JJ'),\n",
       " ('that', 'IN'),\n",
       " ('they', 'PRP'),\n",
       " ('lived', 'VBD'),\n",
       " ('with', 'IN'),\n",
       " ('their', 'PRP$'),\n",
       " ('five', 'CD'),\n",
       " ('children', 'NNS'),\n",
       " ('in', 'IN'),\n",
       " ('only', 'RB'),\n",
       " ('two', 'CD'),\n",
       " ('rooms', 'NNS'),\n",
       " ('.', '.'),\n",
       " ('The', 'DT'),\n",
       " ('father', 'NN'),\n",
       " ('and', 'CC'),\n",
       " ('mother', 'NN'),\n",
       " ('spent', 'VBN'),\n",
       " ('their', 'PRP$'),\n",
       " ('evenings', 'NNS'),\n",
       " ('in', 'IN'),\n",
       " ('reading', 'VBG'),\n",
       " ('aloud', 'NN'),\n",
       " ('to', 'TO'),\n",
       " ('their', 'PRP$'),\n",
       " ('children', 'NNS'),\n",
       " (',', ','),\n",
       " ('generally', 'RB'),\n",
       " ('from', 'IN'),\n",
       " ('books', 'NNS'),\n",
       " ('of', 'IN'),\n",
       " ('a', 'DT'),\n",
       " ('serious', 'JJ'),\n",
       " ('character', 'NN'),\n",
       " ('.', '.'),\n",
       " ('Though', 'NNP'),\n",
       " ('always', 'RB'),\n",
       " ('sickly', 'RB')]"
      ]
     },
     "execution_count": 75,
     "metadata": {},
     "output_type": "execute_result"
    }
   ],
   "source": [
    "# POS Tag!\n",
    "nltk.pos_tag(tokens[:200])"
   ]
  },
  {
   "cell_type": "code",
   "execution_count": 79,
   "metadata": {},
   "outputs": [
    {
     "data": {
      "text/plain": [
       "['i',\n",
       " 'me',\n",
       " 'my',\n",
       " 'myself',\n",
       " 'we',\n",
       " 'our',\n",
       " 'ours',\n",
       " 'ourselves',\n",
       " 'you',\n",
       " \"you're\",\n",
       " \"you've\",\n",
       " \"you'll\",\n",
       " \"you'd\",\n",
       " 'your',\n",
       " 'yours',\n",
       " 'yourself',\n",
       " 'yourselves',\n",
       " 'he',\n",
       " 'him',\n",
       " 'his']"
      ]
     },
     "execution_count": 79,
     "metadata": {},
     "output_type": "execute_result"
    }
   ],
   "source": [
    "# stopwords!!\n",
    "from nltk.corpus import stopwords\n",
    "stopwords.words('english')[:20]"
   ]
  },
  {
   "cell_type": "markdown",
   "metadata": {},
   "source": [
    "# Unit 2 -- information retrieval"
   ]
  },
  {
   "cell_type": "markdown",
   "metadata": {},
   "source": [
    "## Exercise 1: Test your setup\n",
    "* import nltk\n",
    "* make a random sentence, split it into tokens, and remove all stopwords from the sentence"
   ]
  },
  {
   "cell_type": "markdown",
   "metadata": {},
   "source": [
    "## go to slides until \"Big Exercise\"\n"
   ]
  },
  {
   "cell_type": "code",
   "execution_count": null,
   "metadata": {},
   "outputs": [],
   "source": [
    "## --> Exercise 2: Create and inverted index"
   ]
  },
  {
   "cell_type": "code",
   "execution_count": null,
   "metadata": {},
   "outputs": [],
   "source": [
    "show:  code5_inverted_index_creation_textbook.py"
   ]
  },
  {
   "cell_type": "code",
   "execution_count": null,
   "metadata": {},
   "outputs": [],
   "source": [
    "-- show results -- copy inv_simple.py into here!"
   ]
  },
  {
   "cell_type": "markdown",
   "metadata": {},
   "source": [
    "## ranked retrieval"
   ]
  },
  {
   "cell_type": "markdown",
   "metadata": {},
   "source": [
    "## Jaccard for ranked retrieval"
   ]
  },
  {
   "cell_type": "code",
   "execution_count": 81,
   "metadata": {},
   "outputs": [
    {
     "name": "stdout",
     "output_type": "stream",
     "text": [
      "{'and', 'the', 'Jane'}\n",
      "{'man', 'the', 'and', 'Jane'}\n",
      "{'man', 'the', 'and', 'Jane'}\n",
      "{'the', 'and'}\n",
      "{'the', 'and'}\n",
      "{'the', 'and'}\n",
      "{'the', 'and'}\n",
      "{'the', 'and'}\n",
      "{'the', 'and'}\n",
      "{'the', 'and'}\n",
      "{'the', 'and'}\n",
      "{'the', 'and'}\n",
      "{'the', 'and'}\n",
      "{'the', 'and'}\n",
      "{'the', 'and'}\n",
      "{'the', 'and'}\n",
      "{'the', 'and'}\n",
      "{'the', 'and'}\n",
      "\n",
      "[('austen-sense.txt', 0.05970149253731343),\n",
      " ('austen-persuasion.txt', 0.0547945205479452),\n",
      " ('austen-emma.txt', 0.04225352112676056),\n",
      " ('bible-kjv.txt', 0.038461538461538464),\n",
      " ('shakespeare-macbeth.txt', 0.03076923076923077),\n",
      " ('chesterton-ball.txt', 0.029850746268656716),\n",
      " ('blake-poems.txt', 0.029411764705882353),\n",
      " ('burgess-busterbrown.txt', 0.028169014084507043),\n",
      " ('carroll-alice.txt', 0.028169014084507043),\n",
      " ('edgeworth-parents.txt', 0.028169014084507043),\n",
      " ('chesterton-brown.txt', 0.0273972602739726),\n",
      " ('melville-moby_dick.txt', 0.0273972602739726),\n",
      " ('milton-paradise.txt', 0.02702702702702703),\n",
      " ('shakespeare-caesar.txt', 0.02702702702702703),\n",
      " ('whitman-leaves.txt', 0.02702702702702703),\n",
      " ('shakespeare-hamlet.txt', 0.02631578947368421),\n",
      " ('chesterton-thursday.txt', 0.02531645569620253),\n",
      " ('bryant-stories.txt', 0.025)]\n"
     ]
    }
   ],
   "source": [
    "import nltk\n",
    "from nltk.corpus import gutenberg\n",
    "from pprint import pprint\n",
    "\n",
    "\"\"\"\n",
    "    some helper functions for the IR unit\n",
    "    @author: Gerhard Wohlgenannt, ITMO Univ., 2017\n",
    "\"\"\"\n",
    "\n",
    "def jaccard(query, size_limit=100):\n",
    "    \"\"\"\n",
    "        input: an nltk corpus\n",
    "        returns: the vocabulary -- the list of unique (unigram) terms\n",
    "    \"\"\"\n",
    "\n",
    "    results = {}\n",
    "\n",
    "    q_set = set(query.split(' '))\n",
    "\n",
    "    for fileid in gutenberg.fileids():\n",
    "\n",
    "        doc = set(gutenberg.words(fileid)[:size_limit])\n",
    "\n",
    "        q_and_d = q_set.intersection(doc)\n",
    "        print (q_and_d)\n",
    "        q_or_d = q_set.union(doc)\n",
    "\n",
    "        results[fileid] = len(q_and_d) / len(q_or_d)\n",
    "\n",
    "    return results\n",
    "\n",
    "\n",
    "\n",
    "\n",
    "if __name__ == \"__main__\":\n",
    "    results = jaccard('the man and Jane', size_limit=100)\n",
    "\n",
    "    ## sort and print the dict\n",
    "    s = [(k, results[k]) for k in sorted(results, key=results.get, reverse=True)]\n",
    "    print()\n",
    "    pprint(s)\n",
    "\n"
   ]
  },
  {
   "cell_type": "code",
   "execution_count": null,
   "metadata": {},
   "outputs": [],
   "source": []
  },
  {
   "cell_type": "code",
   "execution_count": null,
   "metadata": {},
   "outputs": [],
   "source": []
  },
  {
   "cell_type": "code",
   "execution_count": null,
   "metadata": {},
   "outputs": [],
   "source": []
  },
  {
   "cell_type": "code",
   "execution_count": null,
   "metadata": {},
   "outputs": [],
   "source": []
  },
  {
   "cell_type": "code",
   "execution_count": null,
   "metadata": {},
   "outputs": [],
   "source": []
  }
 ],
 "metadata": {
  "kernelspec": {
   "display_name": "Python 3",
   "language": "python",
   "name": "python3"
  },
  "language_info": {
   "codemirror_mode": {
    "name": "ipython",
    "version": 3
   },
   "file_extension": ".py",
   "mimetype": "text/x-python",
   "name": "python",
   "nbconvert_exporter": "python",
   "pygments_lexer": "ipython3",
   "version": "3.7.5"
  }
 },
 "nbformat": 4,
 "nbformat_minor": 2
}
