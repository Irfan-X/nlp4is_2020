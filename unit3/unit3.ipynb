{
 "cells": [
  {
   "cell_type": "markdown",
   "metadata": {},
   "source": [
    "# NLP UNIT 3"
   ]
  },
  {
   "cell_type": "code",
   "execution_count": 3,
   "metadata": {},
   "outputs": [],
   "source": [
    "%matplotlib inline\n",
    "import nltk, gensim\n",
    "import matplotlib\n",
    "import numpy as np\n",
    "import matplotlib.pyplot as plt\n",
    "from nltk.corpus import stopwords\n",
    "from nltk.tokenize import word_tokenize, sent_tokenize\n",
    "from nltk.corpus import gutenberg\n"
   ]
  },
  {
   "cell_type": "markdown",
   "metadata": {},
   "source": [
    "## Word embedding training\n"
   ]
  },
  {
   "cell_type": "code",
   "execution_count": 13,
   "metadata": {},
   "outputs": [],
   "source": [
    "def train_model(fileid):\n",
    "    \"\"\"\n",
    "        training a gensim model, see also: https://radimrehurek.com/gensim/models/word2vec.html\n",
    "    \"\"\"\n",
    "    # min-count: only include words in the model with a min-count\n",
    "    return gensim.models.Word2Vec(gutenberg.sents(fileid), min_count=5, size=300, \n",
    "                                  workers=4, window=10, sg=1, negative=5, iter=10)\n"
   ]
  },
  {
   "cell_type": "code",
   "execution_count": null,
   "metadata": {},
   "outputs": [],
   "source": [
    "model = train_model('shakespeare-hamlet.txt')\n",
    "model\n"
   ]
  },
  {
   "cell_type": "code",
   "execution_count": null,
   "metadata": {},
   "outputs": [],
   "source": [
    "print(model.most_similar(positive=['Hamlet']))\n",
    "print()\n",
    "print(model.most_similar(positive=['King']))\n",
    "print()\n",
    "print(model.most_similar(positive=['great']))\n",
    "\n"
   ]
  },
  {
   "cell_type": "markdown",
   "metadata": {},
   "source": [
    "### Various functions:"
   ]
  },
  {
   "cell_type": "code",
   "execution_count": 16,
   "metadata": {},
   "outputs": [],
   "source": [
    "## save model\n",
    "model.save(\"hamlet.model\") # binary format\n",
    "model.wv.save_word2vec_format(\"hamlet.vec\", binary=False) # text / vec format\n"
   ]
  },
  {
   "cell_type": "code",
   "execution_count": null,
   "metadata": {},
   "outputs": [],
   "source": [
    "!head hamlet.vec"
   ]
  },
  {
   "cell_type": "code",
   "execution_count": 9,
   "metadata": {},
   "outputs": [],
   "source": [
    "# load model\n",
    "model = gensim.models.KeyedVectors.load_word2vec_format(\"hamlet.vec\", binary=False) # text / vec format"
   ]
  },
  {
   "cell_type": "code",
   "execution_count": null,
   "metadata": {},
   "outputs": [],
   "source": [
    "## what is the similarity between these words\n",
    "print(model.similarity('great', 'well'))\n",
    "print(model.similarity('great', 'death'))\n",
    "print(model.similarity('Hamlet', 'well'))\n",
    "print(model.similarity('King', 'Queene'))\n",
    "\n",
    "  "
   ]
  },
  {
   "cell_type": "code",
   "execution_count": null,
   "metadata": {},
   "outputs": [],
   "source": [
    "## most similar to a single word\n",
    "print(\"King\", model.most_similar(\"King\"))\n",
    "\n",
    "## words that are **most far away** from input .. \n",
    "## nothing useful there for this model\n",
    "print(model.most_similar(negative=['Lord', \"Reynol\"]))\n",
    "print(model.most_similar(negative=['Hamlet']))\n",
    "\n",
    "\n",
    " \n"
   ]
  },
  {
   "cell_type": "code",
   "execution_count": null,
   "metadata": {},
   "outputs": [],
   "source": [
    "### Analogy reasoning"
   ]
  },
  {
   "cell_type": "code",
   "execution_count": null,
   "metadata": {},
   "outputs": [],
   "source": [
    "# model.most_similar(positive=['like','teh'],negative=['the'])\n",
    "print(\"king-queen\", model.most_similar(positive=[\"King\",'woman'],negative=['man']) )\n",
    "#print(\"superlative: good-better\", model.most_similar(positive=[\"good\",'bigger'],negative=['big']) )\n",
    "print(\"superlative: good-better\", model.most_similar(positive=[\"best\",'bad'],negative=['good']) )\n",
    "\n"
   ]
  },
  {
   "cell_type": "code",
   "execution_count": 45,
   "metadata": {},
   "outputs": [],
   "source": [
    "import gensim.downloader as api\n",
    "from gensim.models import FastText\n",
    "\n",
    "\n",
    "text = api.load('text8')\n",
    "#model = FastText(text, size=4, window=3, min_count=5, iter=10)\n",
    "\n",
    "text = api.load('text8')\n",
    "model = gensim.models.Word2Vec(text, min_count=5, size=300, \n",
    "                                  workers=4, window=10, sg=1, negative=5, iter=5)\n",
    "\n"
   ]
  },
  {
   "cell_type": "code",
   "execution_count": 46,
   "metadata": {},
   "outputs": [],
   "source": [
    "model.save(\"text8.model\") # binary format\n"
   ]
  },
  {
   "cell_type": "code",
   "execution_count": 50,
   "metadata": {},
   "outputs": [
    {
     "name": "stderr",
     "output_type": "stream",
     "text": [
      "/usr/lib/python3/dist-packages/ipykernel_launcher.py:1: DeprecationWarning: Call to deprecated `most_similar` (Method will be removed in 4.0.0, use self.wv.most_similar() instead).\n",
      "  \"\"\"Entry point for launching an IPython kernel.\n"
     ]
    },
    {
     "data": {
      "text/plain": [
       "[('girl', 0.5719791650772095),\n",
       " ('marriageable', 0.5341780185699463),\n",
       " ('women', 0.5338364839553833),\n",
       " ('man', 0.5302542448043823),\n",
       " ('fathering', 0.5201246738433838),\n",
       " ('guamanian', 0.5139300227165222),\n",
       " ('maternity', 0.5129960179328918),\n",
       " ('divorces', 0.5117337703704834),\n",
       " ('seduces', 0.5112107396125793),\n",
       " ('spinster', 0.5082893371582031)]"
      ]
     },
     "execution_count": 50,
     "metadata": {},
     "output_type": "execute_result"
    }
   ],
   "source": [
    "model.most_similar(positive=[\"woman\"])"
   ]
  },
  {
   "cell_type": "code",
   "execution_count": 52,
   "metadata": {},
   "outputs": [
    {
     "name": "stdout",
     "output_type": "stream",
     "text": [
      "king-queen [('queen', 0.5241947174072266), ('infanta', 0.4640105366706848), ('henrietta', 0.4589478373527527), ('daughter', 0.45729348063468933), ('valois', 0.4529213309288025), ('regnant', 0.4506695866584778), ('marrying', 0.4491432309150696), ('eleonora', 0.4478476047515869), ('urraca', 0.44519126415252686), ('yolande', 0.4426528215408325)]\n",
      "superlative: good-better [('bafta', 0.48808908462524414), ('filmfare', 0.4844830334186554), ('oscars', 0.48110130429267883), ('worst', 0.45849645137786865), ('dicaprio', 0.4513181447982788), ('nominations', 0.4492705464363098), ('awards', 0.4393504858016968), ('photoplay', 0.43287116289138794), ('oscar', 0.43076854944229126), ('award', 0.429019033908844)]\n"
     ]
    },
    {
     "name": "stderr",
     "output_type": "stream",
     "text": [
      "/usr/lib/python3/dist-packages/ipykernel_launcher.py:1: DeprecationWarning: Call to deprecated `most_similar` (Method will be removed in 4.0.0, use self.wv.most_similar() instead).\n",
      "  \"\"\"Entry point for launching an IPython kernel.\n",
      "/usr/lib/python3/dist-packages/ipykernel_launcher.py:3: DeprecationWarning: Call to deprecated `most_similar` (Method will be removed in 4.0.0, use self.wv.most_similar() instead).\n",
      "  This is separate from the ipykernel package so we can avoid doing imports until\n"
     ]
    }
   ],
   "source": [
    "print(\"king-queen\", model.most_similar(positive=[\"king\",'woman'],negative=['man']) )\n",
    "#print(\"superlative: good-better\", model.most_similar(positive=[\"good\",'bigger'],negative=['big']) )\n",
    "print(\"superlative: good-better\", model.most_similar(positive=[\"best\",'bad'],negative=['good']) )"
   ]
  },
  {
   "cell_type": "code",
   "execution_count": 54,
   "metadata": {},
   "outputs": [
    {
     "name": "stdout",
     "output_type": "stream",
     "text": [
      "superlative: good-better [('girl', 0.4392324686050415), ('children', 0.40296924114227295), ('child', 0.4010913670063019), ('daughter', 0.37874484062194824), ('girls', 0.3694722056388855), ('agassi', 0.3668133020401001), ('orphan', 0.36657896637916565), ('satsuki', 0.3613031506538391), ('nintendo', 0.359235942363739), ('desiree', 0.35887596011161804)]\n"
     ]
    },
    {
     "name": "stderr",
     "output_type": "stream",
     "text": [
      "/usr/lib/python3/dist-packages/ipykernel_launcher.py:1: DeprecationWarning: Call to deprecated `most_similar` (Method will be removed in 4.0.0, use self.wv.most_similar() instead).\n",
      "  \"\"\"Entry point for launching an IPython kernel.\n"
     ]
    }
   ],
   "source": [
    "print(\"superlative: good-better\", model.most_similar(positive=[\"boy\",'woman'],negative=['man']) )"
   ]
  },
  {
   "cell_type": "code",
   "execution_count": null,
   "metadata": {},
   "outputs": [],
   "source": []
  },
  {
   "cell_type": "markdown",
   "metadata": {},
   "source": [
    "### visualize a model"
   ]
  },
  {
   "cell_type": "code",
   "execution_count": 55,
   "metadata": {},
   "outputs": [],
   "source": [
    "import gensim\n",
    "import nltk\n",
    "from nltk.tokenize import word_tokenize, sent_tokenize\n",
    "from nltk.corpus import gutenberg\n",
    "\n",
    "from sklearn.manifold import TSNE\n",
    "from sklearn.decomposition import PCA\n",
    "import matplotlib.pyplot as plt\n",
    "\n",
    "import codecs\n",
    "import numpy as np\n",
    "import matplotlib.pyplot as plt\n",
    "\n",
    "from sklearn.manifold import TSNE\n",
    "from nltk.corpus import stopwords"
   ]
  },
  {
   "cell_type": "code",
   "execution_count": 64,
   "metadata": {},
   "outputs": [],
   "source": [
    "# see also: https://www.quora.com/How-do-I-visualise-word2vec-word-vectors\n",
    "# see also: https://raw.githubusercontent.com/devmount/GermanWordEmbeddings/master/visualize.py \n",
    "\n",
    "def viz(pca=True):\n",
    "\n",
    "    wv, vocabulary = load_embeddings(\"hamlet.vec\")\n",
    "\n",
    "    if pca:\n",
    "        pca = PCA(n_components=2, whiten=True)\n",
    "        Y = pca.fit(wv[:300,:]).transform(wv[:300,:])\n",
    "    else:\n",
    "        tsne = TSNE(n_components=2, random_state=0)\n",
    "        Y = tsne.fit_transform(wv[:200,:])\n",
    "\n",
    "    np.set_printoptions(suppress=True)\n",
    "\n",
    "    plt.scatter(Y[:, 0], Y[:, 1])\n",
    "    for label, x, y in zip(vocabulary, Y[:, 0], Y[:, 1]):\n",
    "        if label.lower() not in stopwords.words('english'):\n",
    "            plt.annotate(label, xy=(x, y), xytext=(0, 0), textcoords='offset points')\n",
    "    plt.show()\n",
    "    \n",
    "def load_embeddings(file_name):\n",
    "\n",
    "\n",
    "    with codecs.open(file_name, 'r', 'utf-8') as f_in:\n",
    "        vocabulary, wv = zip(*[line.strip().split(' ', 1) for line in f_in if len(line.strip().split()) != 2])\n",
    "\n",
    "        wv = np.loadtxt(wv)\n",
    "\n",
    "    return wv, vocabulary\n",
    "\n"
   ]
  },
  {
   "cell_type": "code",
   "execution_count": 65,
   "metadata": {},
   "outputs": [
    {
     "data": {
      "image/png": "[encoded data removed]",
      "text/plain": [
       "<Figure size 432x288 with 1 Axes>"
      ]
     },
     "metadata": {
      "needs_background": "light"
     },
     "output_type": "display_data"
    }
   ],
   "source": [
    "viz(pca=False)\n"
   ]
  },
  {
   "cell_type": "code",
   "execution_count": null,
   "metadata": {},
   "outputs": [],
   "source": []
  },
  {
   "cell_type": "code",
   "execution_count": null,
   "metadata": {},
   "outputs": [],
   "source": []
  },
  {
   "cell_type": "code",
   "execution_count": null,
   "metadata": {},
   "outputs": [],
   "source": []
  },
  {
   "cell_type": "code",
   "execution_count": null,
   "metadata": {},
   "outputs": [],
   "source": []
  }
 ],
 "metadata": {
  "kernelspec": {
   "display_name": "Python 3",
   "language": "python",
   "name": "python3"
  },
  "language_info": {
   "codemirror_mode": {
    "name": "ipython",
    "version": 3
   },
   "file_extension": ".py",
   "mimetype": "text/x-python",
   "name": "python",
   "nbconvert_exporter": "python",
   "pygments_lexer": "ipython3",
   "version": "3.7.5"
  }
 },
 "nbformat": 4,
 "nbformat_minor": 2
}
